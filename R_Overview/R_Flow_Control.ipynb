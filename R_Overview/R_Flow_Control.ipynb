{
 "cells": [
  {
   "cell_type": "code",
   "execution_count": null,
   "metadata": {},
   "outputs": [],
   "source": [
    " **Flow Control**\n",
    "\n",
    "  - Functions and Function Definition\n",
    "  - Anonymous Functions (Lambda)\n",
    "  - Conditional Statements (if, else)\n",
    "  - Loops (for, while)\n",
    "  - Control Flow Statements (break, next)\n",
    "  - Exercise"
   ]
  }
 ],
 "metadata": {
  "language_info": {
   "name": "python"
  }
 },
 "nbformat": 4,
 "nbformat_minor": 2
}
