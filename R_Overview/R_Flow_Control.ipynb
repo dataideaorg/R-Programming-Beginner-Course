{
 "cells": [
  {
   "cell_type": "markdown",
   "metadata": {},
   "source": [
    "---\n",
    "**Author**: *Mugabi Trevor .L*\n",
    "\n",
    "**Published**: *2024-09-06*\n",
    "\n",
    "**Keywords**: *Functions, Anonymous Functions, Conditional Statements, Loops*\n",
    "\n",
    "**Description**: *Flow Control in R*\n",
    "\n",
    "---"
   ]
  },
  {
   "cell_type": "markdown",
   "metadata": {
    "vscode": {
     "languageId": "r"
    }
   },
   "source": [
    "# Flow Control\n",
    " **Flow control** in programming refers to the order in which individual statements, instructions, or function calls are executed within a program. It determines how the program progresses from one instruction to another based on certain conditions and logic.\\\n",
    " Essentially, flow control allows Programmers to guide the program’s execution path.\n",
    "\n",
    "By default, programs execute statements sequentially from top to bottom. Each line of code is executed in the order it appears.\\\n",
    "However, there are scenarios where we need more flexibility for example, executing specific blocks of code conditionally or repeatedly.\n",
    "\n",
    "**Before** getting into these statements lets first learn about **Functions**\n",
    "\n",
    "## Functions\n",
    "- **In programming, a function** is a modular unit of code designed to accomplish a specific task. Think of it as a mini-program within your larger program.\n",
    "- A function encapsulates a set of instructions that perform a well-defined operation.When you call a function, it executes its code and may return a result.\n",
    "- Functions allow you to break down complex programs into smaller, manageable pieces.\n",
    "\n",
    "***Why Are Functions Important?***\n",
    "- Functions help organize your code. Each function handles a specific task, making your program more readable and maintainable.\n",
    "- Once defined, functions can be called multiple times from different parts of your program, reducing redundancy.\n",
    "\n",
    "In **R** to define a function we use the keyword Function and assign it to a name which we will use to call the function when we want its functionality.\n",
    "\n",
    "***Function syntax***:\n",
    "```{r}\n",
    "my_function <- function(parameters) {\n",
    "  # Function body (code)\n",
    "  # ...\n",
    "  return(result)  # Optional: Return a value\n",
    "}\n",
    "\n",
    "```"
   ]
  },
  {
   "cell_type": "code",
   "execution_count": 1,
   "metadata": {
    "vscode": {
     "languageId": "r"
    }
   },
   "outputs": [
    {
     "name": "stdout",
     "output_type": "stream",
     "text": [
      "[1] \"Your welcome John\"\n",
      "[1] \"Your welcome Mike\"\n"
     ]
    }
   ],
   "source": [
    "# Defining a function that greets a User by name\n",
    "\n",
    "greetings <- function(user){\n",
    "    print(paste(\"Your welcome\",user))\n",
    "}\n",
    "# The function name is greetings and it takes the users name as an argument.\n",
    "\n",
    "# Calling it to Run the code in it,Functions dont execute unless called.\n",
    "greetings(\"John\") # output \"You welcome John\"\n",
    "\n",
    "# Calling it again with a different name.\n",
    "greetings(\"Mike\") # output \"You welcome Mike\"\n",
    "\n",
    "# As seen i can recall it with different input as many times as ii may like\n",
    "# and this saves me time not to write the print code for every user we may have.\n"
   ]
  },
  {
   "cell_type": "markdown",
   "metadata": {},
   "source": [
    "***Key components on Functions***\n",
    "- **Function Name**: Choose a descriptive name for your function.\n",
    "- **Parameters**: Input values (arguments) passed to the function.\n",
    "- **Return Value[Optional]**: what the function produces as output.\n",
    "\n",
    "One more example, lets create a Function that adds two numbers together and returns the results"
   ]
  },
  {
   "cell_type": "code",
   "execution_count": 2,
   "metadata": {
    "vscode": {
     "languageId": "r"
    }
   },
   "outputs": [
    {
     "name": "stdout",
     "output_type": "stream",
     "text": [
      "[1] 7\n"
     ]
    }
   ],
   "source": [
    "# Defining func to add.\n",
    "add_nums <-  function(num_1, num_2){\n",
    "    return(num_1 + num_2)\n",
    "}\n",
    "\n",
    "# Testing it out, when num_1= 3 and num_2 = 4.\n",
    "results <- add_nums(3, 4)\n",
    "print(results) # output 3+4 = 7."
   ]
  },
  {
   "cell_type": "markdown",
   "metadata": {},
   "source": [
    "***Anonymous Functions (Lambda)***\n",
    "The functions used above had a name to refer to them but there are other functions in **R** known as **anonymous functions or function literals**, they are concise and powerful tools for creating small, throwaway functions on the fly. They’re like magical one-liners that perform specific tasks without needing a formal function definition.\\\n",
    "Just like the normal functions  they are defined using the **Function** keyword\n",
    "\n",
    "***lamda syntax***:\n",
    "```{r}\n",
    "lambda_function <- function(arguments) expression\n",
    "```\n"
   ]
  },
  {
   "cell_type": "code",
   "execution_count": 3,
   "metadata": {
    "vscode": {
     "languageId": "r"
    }
   },
   "outputs": [],
   "source": [
    "# Example.\n",
    "double <- function(x) x * 2 #defined lambda func."
   ]
  },
  {
   "cell_type": "code",
   "execution_count": 4,
   "metadata": {
    "vscode": {
     "languageId": "r"
    }
   },
   "outputs": [
    {
     "name": "stdout",
     "output_type": "stream",
     "text": [
      "[[1]]\n",
      "[1] 1\n",
      "\n",
      "[[2]]\n",
      "[1] 4\n",
      "\n",
      "[[3]]\n",
      "[1] 9\n",
      "\n",
      "[[4]]\n",
      "[1] 16\n",
      "\n",
      "[[5]]\n",
      "[1] 25\n",
      "\n"
     ]
    }
   ],
   "source": [
    "# Example 2.\n",
    "# Say i have a list of numbers below \n",
    "my_numbers <- list(1, 2, 3, 4, 5)\n",
    "# i can apply a lambda func to it like this below\n",
    "squared_numbers <- lapply(my_numbers, function(x) x^2)\n",
    "# note the func applied is \"function(x) x^2\" its not even named\n",
    "print(squared_numbers)"
   ]
  },
  {
   "cell_type": "markdown",
   "metadata": {
    "vscode": {
     "languageId": "r"
    }
   },
   "source": [
    "## Types of Control Flow Statements\n",
    "\n",
    "### 1. Conditional Statements (if, else)\n",
    "These allow you to execute specific blocks of code based on conditions.\n",
    "Examples include ***if*** and  ***if-else*** statements.\n",
    "\n",
    "***if syntax*** is as below:\n",
    "```{r}\n",
    "if (condition) {\n",
    "  # Code to execute if condition is TRUE\n",
    "}\n",
    "```"
   ]
  },
  {
   "cell_type": "code",
   "execution_count": 5,
   "metadata": {
    "vscode": {
     "languageId": "r"
    }
   },
   "outputs": [
    {
     "name": "stdout",
     "output_type": "stream",
     "text": [
      "[1] \"You can vote!\"\n"
     ]
    }
   ],
   "source": [
    "# Example if Age is greate or equal to 18 then some one can vote.\n",
    "age <- 25\n",
    "if (age >= 18) {\n",
    "  print(\"You can vote!\")\n",
    "}"
   ]
  },
  {
   "cell_type": "markdown",
   "metadata": {},
   "source": [
    "Sometimes you need an alternative path when the condition is FALSE. That’s where if-else comes in.\n",
    "\n",
    "***if else syntax*** is \n",
    "```{r}\n",
    "if (condition) {\n",
    "  # Code to execute if condition is TRUE\n",
    "} else {\n",
    "  # Code to execute if condition is FALSE\n",
    "}\n",
    "\n",
    "```"
   ]
  },
  {
   "cell_type": "code",
   "execution_count": 6,
   "metadata": {
    "vscode": {
     "languageId": "r"
    }
   },
   "outputs": [
    {
     "name": "stdout",
     "output_type": "stream",
     "text": [
      "[1] \"It's chilly.\"\n"
     ]
    }
   ],
   "source": [
    "# Example when the temperature is above 20 say its warm \n",
    "# else say its chilly.\n",
    "temperature <- 10\n",
    "if (temperature > 20) {\n",
    "  print(\"It's warm outside.\")\n",
    "} else {\n",
    "  print(\"It's chilly.\")\n",
    "}\n"
   ]
  },
  {
   "cell_type": "markdown",
   "metadata": {
    "vscode": {
     "languageId": "r"
    }
   },
   "source": [
    "### 2. Loops (for, while)\n",
    "These enable you to repeat a block of code multiple times.\n",
    "Common looping constructs include for, while, and do-while loops.\n",
    "\n",
    "1. **For Loop**:\n",
    "    - A for loop is commonly used to iterate over a sequence (e.g., a vector, list, or numeric range).\n",
    "\n",
    "***For loop syntax***:\n",
    "```{r}\n",
    "for (value in sequence) {\n",
    "  # Code to execute for each value\n",
    "}\n",
    "```"
   ]
  },
  {
   "cell_type": "code",
   "execution_count": 7,
   "metadata": {
    "vscode": {
     "languageId": "r"
    }
   },
   "outputs": [
    {
     "name": "stdout",
     "output_type": "stream",
     "text": [
      "[1] 1\n",
      "[1] 2\n",
      "[1] 3\n",
      "[1] 4\n",
      "[1] 5\n"
     ]
    }
   ],
   "source": [
    "# Example\n",
    "for (val in 1:5) {\n",
    "  print(val)\n",
    "}\n",
    "# here each value in the range from 1 to 5 will be printed."
   ]
  },
  {
   "cell_type": "markdown",
   "metadata": {
    "vscode": {
     "languageId": "r"
    }
   },
   "source": [
    "2. **While Loop**:\n",
    "    - A while loop repeatedly executes a block of code as long as a condition remains true.\n",
    "\n",
    "***While loop sytnax***\n",
    "```{r}\n",
    "while (condition) {\n",
    "  # Code to execute while condition is true\n",
    "}\n",
    "```"
   ]
  },
  {
   "cell_type": "code",
   "execution_count": 8,
   "metadata": {
    "vscode": {
     "languageId": "r"
    }
   },
   "outputs": [
    {
     "name": "stdout",
     "output_type": "stream",
     "text": [
      "[1] 4\n",
      "[1] 1\n",
      "[1] 6\n"
     ]
    }
   ],
   "source": [
    "# Example.\n",
    "roll <- 0\n",
    "while (roll != 6) {\n",
    "  roll <- sample(1:6, 1)\n",
    "  print(roll)\n",
    "}\n",
    "# As long as roll isn't 6 the loop will run."
   ]
  },
  {
   "cell_type": "markdown",
   "metadata": {},
   "source": [
    "**Repeat Loop**\n",
    "**A repeat** loop executes a block of code indefinitely until explicitly stopped.\n",
    "\n",
    "***Repeat loop sytnax***:\n",
    "```{r}\n",
    "repeat {\n",
    "  # Code to execute repeatedly\n",
    "  if (condition) break  # Exit the loop when condition is met\n",
    "}\n",
    "\n",
    "```"
   ]
  },
  {
   "cell_type": "code",
   "execution_count": 9,
   "metadata": {
    "vscode": {
     "languageId": "r"
    }
   },
   "outputs": [
    {
     "name": "stdout",
     "output_type": "stream",
     "text": [
      "[1] 0.377544\n",
      "[1] 0.2606443\n",
      "[1] 0.02725212\n",
      "[1] 0.9546186\n"
     ]
    }
   ],
   "source": [
    "# Example\n",
    "# This loop will generate random numbers until one exceeds 0.9 then stop.\n",
    "repeat {\n",
    "  rand_num <- runif(1)\n",
    "  print(rand_num)\n",
    "  if (rand_num > 0.9) break\n",
    "}\n"
   ]
  },
  {
   "cell_type": "markdown",
   "metadata": {
    "vscode": {
     "languageId": "r"
    }
   },
   "source": [
    "### 3. Control Flow Statements (break, next)\n",
    "**In R** the ***break***, ***next***, and ***continue*** statements. These little tools allow you to control the flow of your loops.\n",
    "\n",
    "#### 1. Break Statement:\n",
    "The ***break*** statement is like a musical rest, it stops the current loop in its tracks.\\\n",
    "When R encounters a break, the loop immediately exits, and the program continues with the next statement after the loop.\\\n",
    "Use it when you want to bail out of a loop prematurely.\n",
    "\n",
    "See code example below:"
   ]
  },
  {
   "cell_type": "code",
   "execution_count": 10,
   "metadata": {
    "vscode": {
     "languageId": "r"
    }
   },
   "outputs": [
    {
     "name": "stdout",
     "output_type": "stream",
     "text": [
      "[1] 1\n",
      "[1] 2\n"
     ]
    }
   ],
   "source": [
    "# Here we are to break out of the loop once i is equal to 3.\n",
    "for (i in 1:5) {\n",
    "    if (i == 3) {\n",
    "        break  # Exit the loop when i is 3\n",
    "    }\n",
    "    print(i) # Print the successful i\n",
    "}\n"
   ]
  },
  {
   "cell_type": "markdown",
   "metadata": {},
   "source": [
    "#### 2. Next Statement:\n",
    "The ***next*** statement is like a skip button,it jumps to the next iteration of the loop without terminating the loop itself.\\\n",
    "When you encounter a ***next***, the current iteration stops, and the program proceeds to the next iteration.\n",
    "Use it when you want to skip specific iterations based on a condition.\n",
    "\n",
    "See code below:"
   ]
  },
  {
   "cell_type": "code",
   "execution_count": 11,
   "metadata": {
    "vscode": {
     "languageId": "r"
    }
   },
   "outputs": [
    {
     "name": "stdout",
     "output_type": "stream",
     "text": [
      "[1] 1\n",
      "[1] 2\n",
      "[1] 4\n",
      "[1] 5\n"
     ]
    }
   ],
   "source": [
    "# Now when i is 3 skip it instead.\n",
    "for (i in 1:5) {\n",
    "    if (i == 3) {\n",
    "        next  # Skip this iteration when i is 3\n",
    "    }\n",
    "    print(i)\n",
    "}\n"
   ]
  },
  {
   "cell_type": "markdown",
   "metadata": {},
   "source": [
    "**Note**:\n",
    "Both ***break*** and ***next*** can be used within different types of loops (e.g., ***for***, ***while***, ***repeat***)."
   ]
  },
  {
   "cell_type": "markdown",
   "metadata": {},
   "source": [
    "# Exercise\n",
    "1. **if-else Statements**:\n",
    "Write a program that checks whether a given number is positive, negative, or zero. Prompt the user to input a number, and then display an appropriate message.\n",
    "**Hint**: The func ***readline()*** takes user input.\n",
    "\n",
    "2. **Functions**:\n",
    "Create a function called ***calculate_area*** that calculates the area of a rectangle. The function should take ***two arguments***: ***length and width***. It should return the area (length × width). Test your function by calculating the area of a rectangle with length 5 and width 3.\n",
    "\n",
    "3. **Loops**:\n",
    "Write a program that generates the first 10 terms of the Fibonacci sequence. Display these terms in the console. The Fibonacci sequence starts with 0 and 1, and each subsequent term is the sum of the previous two terms (e.g., 0, 1, 1, 2, 3, 5, 8, 13, 21, 34).\n",
    "\n",
    "--- \n",
    "***Good Luck***\n",
    "---"
   ]
  }
 ],
 "metadata": {
  "kernelspec": {
   "display_name": "R",
   "language": "R",
   "name": "ir"
  },
  "language_info": {
   "codemirror_mode": "r",
   "file_extension": ".r",
   "mimetype": "text/x-r-source",
   "name": "R",
   "pygments_lexer": "r",
   "version": "4.3.2"
  }
 },
 "nbformat": 4,
 "nbformat_minor": 2
}
