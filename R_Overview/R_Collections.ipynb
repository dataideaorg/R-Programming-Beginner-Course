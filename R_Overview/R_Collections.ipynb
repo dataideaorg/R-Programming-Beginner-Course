{
 "cells": [
  {
   "cell_type": "markdown",
   "metadata": {},
   "source": [
    "---\n",
    "**Author**: *Mugabi Trevor .L*\n",
    "\n",
    "**Published**: *2024-09-04*\n",
    "\n",
    "**Keywords**: *Lists, Vectors, DataFrames, Arrays, Matrices*\n",
    "\n",
    "**Description**: *Collections in R*\n",
    "\n",
    "---"
   ]
  },
  {
   "cell_type": "markdown",
   "metadata": {
    "vscode": {
     "languageId": "r"
    }
   },
   "source": [
    "# Collections\n",
    "Collections are abstract data structures that allow you to group multiple elements together into a single unit.\\\n",
    "These elements can be of the same type (homogeneous) or different types (heterogeneous). Collections provide a way to organize, store, and manipulate data efficiently. They’re like containers that hold items whether those items are integers, Characters, objects, or any other data type."
   ]
  },
  {
   "cell_type": "markdown",
   "metadata": {
    "vscode": {
     "languageId": "r"
    }
   },
   "source": [
    "## Introduction to Data Structures\n",
    "A data structure is a fundamental building block in computer science. It serves as a way to organize, store, and manipulate data within a program.\\\n",
    "Think of data structures as the blueprints for how data is arranged and accessed efficiently. They not only store actual data values but also maintain information about relationships among those values.\\\n",
    "Data structures determine how data is laid out in memory or stored.They define the functions or operations that can be applied to the data (e.g., adding, searching, deleting).\n",
    "\n",
    "### Types of Data structures in **R**\n",
    "The Data structures in R are as follows below:\n",
    "\n",
    "#### 1. Vectors\n",
    "**A vector in R** is a one-dimensional data structure that holds elements of the same type. Think of it as an ordered collection of values grouped together into a single container.\\\n",
    "Each value in a vector is called a component, and vectors can store various types of data, including numeric values, logical values, or character strings.\\\n",
    "Importantly, vectors are not recursive, meaning they can’t contain other vectors as elements. They’re simple and straightforward—one type of data, one dimension.\n",
    "\n",
    "**To create** a vector in **R**, we often use the **c() function** (which stands for “combine” or “concatenate”). Here are some examples:"
   ]
  },
  {
   "cell_type": "code",
   "execution_count": 1,
   "metadata": {
    "vscode": {
     "languageId": "r"
    }
   },
   "outputs": [
    {
     "name": "stdout",
     "output_type": "stream",
     "text": [
      "[1] \"Sabby\" \"Cathy\" \"Lucy\" \n"
     ]
    }
   ],
   "source": [
    "# Creating vector of string type have employee names\n",
    "employees <- c(\"Sabby\", \"Cathy\", \"Lucy\")\n",
    "print(employees) # Output Entire Employees vector"
   ]
  },
  {
   "cell_type": "code",
   "execution_count": 2,
   "metadata": {
    "vscode": {
     "languageId": "r"
    }
   },
   "outputs": [
    {
     "name": "stdout",
     "output_type": "stream",
     "text": [
      "[1] 1 1 2 3 4 7 9 3\n"
     ]
    }
   ],
   "source": [
    "# Creating a vector of numeric type.\n",
    "numbers <- c(1, 1, 2, 3, 4, 7, 9, 3)\n",
    "print(numbers) # Output Entire numbers vector"
   ]
  },
  {
   "cell_type": "markdown",
   "metadata": {
    "vscode": {
     "languageId": "r"
    }
   },
   "source": [
    "**You can Access Vector Elements by indexing**:\n",
    "Each element in a vector is associated with an index (starting from 1). You can access elements using these indices.(Yes **R** is 1 based indexing language).\n",
    "\n",
    "Forexample lets assume we have a vector of fruits and we would like to access the element \"Apple\" in it. see code below"
   ]
  },
  {
   "cell_type": "code",
   "execution_count": 3,
   "metadata": {
    "vscode": {
     "languageId": "r"
    }
   },
   "outputs": [
    {
     "data": {
      "text/html": [
       "'Apples'"
      ],
      "text/latex": [
       "'Apples'"
      ],
      "text/markdown": [
       "'Apples'"
      ],
      "text/plain": [
       "[1] \"Apples\""
      ]
     },
     "metadata": {},
     "output_type": "display_data"
    }
   ],
   "source": [
    "# Defining the fruit vec.\n",
    "fruit_vec <- c(\"Oranges\", \"Pears\", \"Lemons\", \"Apples\", \"Strawberries\")\n",
    "# if you count \"Apples\" is in the fouth position therefore lets index the fourth position.\n",
    "fruit_vec[4] # Output is \"Apples\" because its in the fourth position."
   ]
  },
  {
   "cell_type": "code",
   "execution_count": 4,
   "metadata": {
    "vscode": {
     "languageId": "r"
    }
   },
   "outputs": [
    {
     "data": {
      "text/html": [
       "'Lemons'"
      ],
      "text/latex": [
       "'Lemons'"
      ],
      "text/markdown": [
       "'Lemons'"
      ],
      "text/plain": [
       "[1] \"Lemons\""
      ]
     },
     "metadata": {},
     "output_type": "display_data"
    }
   ],
   "source": [
    "# Say we are now interested in \"Lemons\" instead\n",
    "# lets index them out of the vector\n",
    "\n",
    "fruit_vec[3] # Output Lemons"
   ]
  },
  {
   "cell_type": "code",
   "execution_count": 5,
   "metadata": {
    "vscode": {
     "languageId": "r"
    }
   },
   "outputs": [
    {
     "data": {
      "text/html": [
       "<style>\n",
       ".list-inline {list-style: none; margin:0; padding: 0}\n",
       ".list-inline>li {display: inline-block}\n",
       ".list-inline>li:not(:last-child)::after {content: \"\\00b7\"; padding: 0 .5ex}\n",
       "</style>\n",
       "<ol class=list-inline><li>'Pears'</li><li>'Lemons'</li><li>'Apples'</li><li>'Strawberries'</li></ol>\n"
      ],
      "text/latex": [
       "\\begin{enumerate*}\n",
       "\\item 'Pears'\n",
       "\\item 'Lemons'\n",
       "\\item 'Apples'\n",
       "\\item 'Strawberries'\n",
       "\\end{enumerate*}\n"
      ],
      "text/markdown": [
       "1. 'Pears'\n",
       "2. 'Lemons'\n",
       "3. 'Apples'\n",
       "4. 'Strawberries'\n",
       "\n",
       "\n"
      ],
      "text/plain": [
       "[1] \"Pears\"        \"Lemons\"       \"Apples\"       \"Strawberries\""
      ]
     },
     "metadata": {},
     "output_type": "display_data"
    }
   ],
   "source": [
    "# Say we are now interested in getting two items or more forexample from \"pears\" to \"strawberries\".\n",
    "# we can index the Vector the same way only change is the position we say use a range.\n",
    "# Why we if you look pears is in the second position and strawberries the fifth, therefore we \n",
    "# tell R we want the range 2 to 5 and we say that in R by using a colon \":\". ---> 2:5\n",
    "fruit_vec[2:5]"
   ]
  },
  {
   "cell_type": "markdown",
   "metadata": {
    "vscode": {
     "languageId": "r"
    }
   },
   "source": [
    "#### Lists\n",
    "**A list in R** is an ordered collection of objects, known as its components. Unlike vectors or matrices, lists can contain elements of different modes or types. In other words, a list can hold a mix of numeric vectors, logical values, matrices, character arrays, functions, and more.\\\n",
    "Think of a list as a flexible container where each component can be anything—an atomic value, a vector, or even another list.\n",
    "\n",
    "To **create** a list in **R**, you use the **list() function**. You can include any number of components separated by commas within the function call.\n",
    "Here are some examples:\n"
   ]
  },
  {
   "cell_type": "code",
   "execution_count": 6,
   "metadata": {
    "vscode": {
     "languageId": "r"
    }
   },
   "outputs": [
    {
     "name": "stdout",
     "output_type": "stream",
     "text": [
      "[[1]]\n",
      "[1] \"Dog\"\n",
      "\n",
      "[[2]]\n",
      "[1] 24\n",
      "\n",
      "[[3]]\n",
      "[1] 32\n",
      "\n",
      "[[4]]\n",
      "[1] 56\n",
      "\n"
     ]
    }
   ],
   "source": [
    "# Creating list with different data types\n",
    "items <- list(\"Dog\", 24, 32, 56)\n",
    "print(items) # Output Entire list"
   ]
  },
  {
   "cell_type": "code",
   "execution_count": 7,
   "metadata": {
    "vscode": {
     "languageId": "r"
    }
   },
   "outputs": [
    {
     "name": "stdout",
     "output_type": "stream",
     "text": [
      "[[1]]\n",
      "[1] 24\n",
      "\n",
      "[[2]]\n",
      "[1] 29\n",
      "\n",
      "[[3]]\n",
      "[1] 32\n",
      "\n",
      "[[4]]\n",
      "[1] 34\n",
      "\n"
     ]
    }
   ],
   "source": [
    "# Creating a list with similar data types (numeric)\n",
    "list_1 <- list(24, 29, 32, 34)\n",
    "print(list_1) # Output Entire list\n"
   ]
  },
  {
   "cell_type": "markdown",
   "metadata": {},
   "source": [
    "You can **access components of a list** in two ways:\n",
    "1. **By Names**: Naming list components makes it easier to access them. Use the dollar sign **($)** followed by the component name.\n"
   ]
  },
  {
   "cell_type": "code",
   "execution_count": 8,
   "metadata": {
    "vscode": {
     "languageId": "r"
    }
   },
   "outputs": [
    {
     "name": "stdout",
     "output_type": "stream",
     "text": [
      "[1] \"Chris\"\n"
     ]
    }
   ],
   "source": [
    "# By Name.\n",
    "my_named_list <- list(name = \"Chris\",\n",
    "                    age = 25, city = \"NewYork\")\n",
    "print(my_named_list$name)  # Output: \"Chris\"\n"
   ]
  },
  {
   "cell_type": "markdown",
   "metadata": {},
   "source": [
    "**NB**: Naming components not only helps with readability but also simplifies access. You can use descriptive names for each component."
   ]
  },
  {
   "cell_type": "markdown",
   "metadata": {
    "vscode": {
     "languageId": "r"
    }
   },
   "source": [
    "\n",
    "2. **By Indices**: Just like seen above in vectors you can access list components the same way \n",
    "\n"
   ]
  },
  {
   "cell_type": "code",
   "execution_count": 9,
   "metadata": {
    "vscode": {
     "languageId": "r"
    }
   },
   "outputs": [
    {
     "name": "stdout",
     "output_type": "stream",
     "text": [
      "[1] \"Bob\"\n"
     ]
    }
   ],
   "source": [
    "# Assuming we have some employees\n",
    "emp_names <- c(\"Mike\", \"Bob\", \"John\", \"Annet\")\n",
    "print(emp_names[2])  # Output: \"Bob\"\n"
   ]
  },
  {
   "cell_type": "markdown",
   "metadata": {},
   "source": [
    "**Use Cases**\n",
    "1. Storing complex data structures (e.g., nested lists for hierarchical data).\n",
    "1. Representing results from statistical models.\n",
    "Holding mixed data types when a data frame isn’t suitable.\n",
    "\n",
    "**NB**: Lists are your Swiss Army knife in **R**, they’re flexible, adaptable, and essential for handling diverse data."
   ]
  },
  {
   "cell_type": "markdown",
   "metadata": {
    "vscode": {
     "languageId": "r"
    }
   },
   "source": [
    "#### Matrices\n",
    "**A matrix in R** is a rectangular arrangement of data with rows and columns. It’s similar to a vector but has an additional dimension attribute. Each element in a matrix is associated with both a row index and a column index.\\\n",
    "Unlike lists, matrices are **homogeneous**, meaning they can only contain elements of the same data type (e.g., all numeric, all character strings, etc.).\\\n",
    "Think of a matrix as a grid where each cell holds a value. Rows run horizontally, and columns run vertically.\n",
    "\n",
    "\n",
    "**To create a matrix**, you use the **matrix() function**. \n"
   ]
  },
  {
   "cell_type": "code",
   "execution_count": 10,
   "metadata": {
    "vscode": {
     "languageId": "r"
    }
   },
   "outputs": [
    {
     "name": "stdout",
     "output_type": "stream",
     "text": [
      "     [,1] [,2] [,3]\n",
      "[1,]    1    2    3\n",
      "[2,]    4    5    6\n",
      "[3,]    7    8    9\n"
     ]
    }
   ],
   "source": [
    "# Creating a 3x3 matrix with specified elements\n",
    "my_matrix <- matrix(\n",
    "  c(1, 2, 3, 4, 5, 6, 7, 8, 9),\n",
    "  nrow = 3,  # Number of rows\n",
    "  ncol = 3,  # Number of columns\n",
    "  byrow = TRUE  # Arrange elements by rows (optional)\n",
    ")\n",
    "print(my_matrix)"
   ]
  },
  {
   "cell_type": "markdown",
   "metadata": {
    "vscode": {
     "languageId": "r"
    }
   },
   "source": [
    "**Accessing Matrix Elements**:\n",
    "You can access individual elements using row and column indices"
   ]
  },
  {
   "cell_type": "code",
   "execution_count": 11,
   "metadata": {
    "vscode": {
     "languageId": "r"
    }
   },
   "outputs": [
    {
     "name": "stdout",
     "output_type": "stream",
     "text": [
      "[1] 6\n"
     ]
    }
   ],
   "source": [
    "# Accessing the element in the second row, third column\n",
    "my_value <- my_matrix[2, 3]  # Value: 6\n",
    "print(my_value)"
   ]
  },
  {
   "cell_type": "markdown",
   "metadata": {},
   "source": [
    "**You can query information about a matrix using the Functions below**:\n",
    "1. Number of rows: ***nrow(my_matrix)***\n",
    "1. Number of columns: ***ncol(my_matrix)***\n",
    "1. Dimensions: ***dim(my_matrix)***"
   ]
  },
  {
   "cell_type": "code",
   "execution_count": 12,
   "metadata": {
    "vscode": {
     "languageId": "r"
    }
   },
   "outputs": [
    {
     "data": {
      "text/html": [
       "3"
      ],
      "text/latex": [
       "3"
      ],
      "text/markdown": [
       "3"
      ],
      "text/plain": [
       "[1] 3"
      ]
     },
     "metadata": {},
     "output_type": "display_data"
    }
   ],
   "source": [
    "# Finding Number of Rows of my_matrix.\n",
    "nrow(my_matrix)"
   ]
  },
  {
   "cell_type": "code",
   "execution_count": 13,
   "metadata": {
    "vscode": {
     "languageId": "r"
    }
   },
   "outputs": [
    {
     "data": {
      "text/html": [
       "3"
      ],
      "text/latex": [
       "3"
      ],
      "text/markdown": [
       "3"
      ],
      "text/plain": [
       "[1] 3"
      ]
     },
     "metadata": {},
     "output_type": "display_data"
    }
   ],
   "source": [
    "# Finding Number of Columns of my_matrix.\n",
    "ncol(my_matrix)"
   ]
  },
  {
   "cell_type": "code",
   "execution_count": 14,
   "metadata": {
    "vscode": {
     "languageId": "r"
    }
   },
   "outputs": [
    {
     "data": {
      "text/html": [
       "<style>\n",
       ".list-inline {list-style: none; margin:0; padding: 0}\n",
       ".list-inline>li {display: inline-block}\n",
       ".list-inline>li:not(:last-child)::after {content: \"\\00b7\"; padding: 0 .5ex}\n",
       "</style>\n",
       "<ol class=list-inline><li>3</li><li>3</li></ol>\n"
      ],
      "text/latex": [
       "\\begin{enumerate*}\n",
       "\\item 3\n",
       "\\item 3\n",
       "\\end{enumerate*}\n"
      ],
      "text/markdown": [
       "1. 3\n",
       "2. 3\n",
       "\n",
       "\n"
      ],
      "text/plain": [
       "[1] 3 3"
      ]
     },
     "metadata": {},
     "output_type": "display_data"
    }
   ],
   "source": [
    "# Finding the Dimension/Order of my_matrix.\n",
    "dim(my_matrix)"
   ]
  },
  {
   "cell_type": "markdown",
   "metadata": {},
   "source": [
    "**Use case**: Matrices are handy for representing data tables, mathematical operations (e.g., linear algebra), and image processing."
   ]
  },
  {
   "cell_type": "markdown",
   "metadata": {
    "vscode": {
     "languageId": "r"
    }
   },
   "source": [
    "#### Data Frames\n",
    "**A data frame in R** is like a spreadsheet or a table—a two-dimensional structure where rows represent observations (cases) and columns represent variables (attributes).\\\n",
    "Technically, data frames are lists of vectors of equal length. Each column can contain different types of variables (numeric, character, logical, etc.).\\\n",
    "Think of a data frame as a versatile container for structured data, commonly used for data analysis, statistical modeling, and data visualization.\n",
    "\n",
    "**You can create a data frame** using the **data.frame() function**. Here’s an example:\n"
   ]
  },
  {
   "cell_type": "code",
   "execution_count": 15,
   "metadata": {
    "vscode": {
     "languageId": "r"
    }
   },
   "outputs": [
    {
     "data": {
      "text/html": [
       "<table class=\"dataframe\">\n",
       "<caption>A data.frame: 3 × 3</caption>\n",
       "<thead>\n",
       "\t<tr><th scope=col>Name</th><th scope=col>Age</th><th scope=col>Score</th></tr>\n",
       "\t<tr><th scope=col>&lt;chr&gt;</th><th scope=col>&lt;dbl&gt;</th><th scope=col>&lt;dbl&gt;</th></tr>\n",
       "</thead>\n",
       "<tbody>\n",
       "\t<tr><td>Alice  </td><td>25</td><td>85</td></tr>\n",
       "\t<tr><td>Bob    </td><td>30</td><td>92</td></tr>\n",
       "\t<tr><td>Charlie</td><td>22</td><td>78</td></tr>\n",
       "</tbody>\n",
       "</table>\n"
      ],
      "text/latex": [
       "A data.frame: 3 × 3\n",
       "\\begin{tabular}{lll}\n",
       " Name & Age & Score\\\\\n",
       " <chr> & <dbl> & <dbl>\\\\\n",
       "\\hline\n",
       "\t Alice   & 25 & 85\\\\\n",
       "\t Bob     & 30 & 92\\\\\n",
       "\t Charlie & 22 & 78\\\\\n",
       "\\end{tabular}\n"
      ],
      "text/markdown": [
       "\n",
       "A data.frame: 3 × 3\n",
       "\n",
       "| Name &lt;chr&gt; | Age &lt;dbl&gt; | Score &lt;dbl&gt; |\n",
       "|---|---|---|\n",
       "| Alice   | 25 | 85 |\n",
       "| Bob     | 30 | 92 |\n",
       "| Charlie | 22 | 78 |\n",
       "\n"
      ],
      "text/plain": [
       "  Name    Age Score\n",
       "1 Alice   25  85   \n",
       "2 Bob     30  92   \n",
       "3 Charlie 22  78   "
      ]
     },
     "metadata": {},
     "output_type": "display_data"
    }
   ],
   "source": [
    "# Creating a simple data frame\n",
    "# In this example, lets created a data frame with three columns: “Name,” “Age,” and “Score.”\n",
    "\n",
    "my_data_frame <- data.frame(\n",
    "  Name = c(\"Alice\", \"Bob\", \"Charlie\"), # notice this is a vector.\n",
    "  Age = c(25, 30, 22), # notice this is a vector.\n",
    "  Score = c(85, 92, 78) # notice this is a vector.\n",
    ")\n",
    "my_data_frame # You may need to print this out if your using Rstudio i.e print(my_data_frame)"
   ]
  },
  {
   "cell_type": "markdown",
   "metadata": {
    "vscode": {
     "languageId": "r"
    }
   },
   "source": [
    "**You can access columns (variables)** from a data frame using different methods:\n",
    "1. By column name (using $ notation)\n",
    "2. By column index (using single brackets [ ])\n"
   ]
  },
  {
   "cell_type": "code",
   "execution_count": 16,
   "metadata": {
    "vscode": {
     "languageId": "r"
    }
   },
   "outputs": [
    {
     "data": {
      "text/html": [
       "<style>\n",
       ".list-inline {list-style: none; margin:0; padding: 0}\n",
       ".list-inline>li {display: inline-block}\n",
       ".list-inline>li:not(:last-child)::after {content: \"\\00b7\"; padding: 0 .5ex}\n",
       "</style>\n",
       "<ol class=list-inline><li>'Alice'</li><li>'Bob'</li><li>'Charlie'</li></ol>\n"
      ],
      "text/latex": [
       "\\begin{enumerate*}\n",
       "\\item 'Alice'\n",
       "\\item 'Bob'\n",
       "\\item 'Charlie'\n",
       "\\end{enumerate*}\n"
      ],
      "text/markdown": [
       "1. 'Alice'\n",
       "2. 'Bob'\n",
       "3. 'Charlie'\n",
       "\n",
       "\n"
      ],
      "text/plain": [
       "[1] \"Alice\"   \"Bob\"     \"Charlie\""
      ]
     },
     "metadata": {},
     "output_type": "display_data"
    }
   ],
   "source": [
    "# Using column name (using $ notation)\n",
    "my_data_frame$Name "
   ]
  },
  {
   "cell_type": "code",
   "execution_count": 17,
   "metadata": {
    "vscode": {
     "languageId": "r"
    }
   },
   "outputs": [
    {
     "data": {
      "text/html": [
       "<style>\n",
       ".list-inline {list-style: none; margin:0; padding: 0}\n",
       ".list-inline>li {display: inline-block}\n",
       ".list-inline>li:not(:last-child)::after {content: \"\\00b7\"; padding: 0 .5ex}\n",
       "</style>\n",
       "<ol class=list-inline><li>'Alice'</li><li>'Bob'</li><li>'Charlie'</li></ol>\n"
      ],
      "text/latex": [
       "\\begin{enumerate*}\n",
       "\\item 'Alice'\n",
       "\\item 'Bob'\n",
       "\\item 'Charlie'\n",
       "\\end{enumerate*}\n"
      ],
      "text/markdown": [
       "1. 'Alice'\n",
       "2. 'Bob'\n",
       "3. 'Charlie'\n",
       "\n",
       "\n"
      ],
      "text/plain": [
       "[1] \"Alice\"   \"Bob\"     \"Charlie\""
      ]
     },
     "metadata": {},
     "output_type": "display_data"
    }
   ],
   "source": [
    "# Using column index (using single brackets [ ])\n",
    "my_data_frame[,1]"
   ]
  },
  {
   "cell_type": "code",
   "execution_count": 18,
   "metadata": {
    "vscode": {
     "languageId": "r"
    }
   },
   "outputs": [
    {
     "data": {
      "text/html": [
       "<table class=\"dataframe\">\n",
       "<caption>A data.frame: 3 × 1</caption>\n",
       "<thead>\n",
       "\t<tr><th scope=col>Name</th></tr>\n",
       "\t<tr><th scope=col>&lt;chr&gt;</th></tr>\n",
       "</thead>\n",
       "<tbody>\n",
       "\t<tr><td>Alice  </td></tr>\n",
       "\t<tr><td>Bob    </td></tr>\n",
       "\t<tr><td>Charlie</td></tr>\n",
       "</tbody>\n",
       "</table>\n"
      ],
      "text/latex": [
       "A data.frame: 3 × 1\n",
       "\\begin{tabular}{l}\n",
       " Name\\\\\n",
       " <chr>\\\\\n",
       "\\hline\n",
       "\t Alice  \\\\\n",
       "\t Bob    \\\\\n",
       "\t Charlie\\\\\n",
       "\\end{tabular}\n"
      ],
      "text/markdown": [
       "\n",
       "A data.frame: 3 × 1\n",
       "\n",
       "| Name &lt;chr&gt; |\n",
       "|---|\n",
       "| Alice   |\n",
       "| Bob     |\n",
       "| Charlie |\n",
       "\n"
      ],
      "text/plain": [
       "  Name   \n",
       "1 Alice  \n",
       "2 Bob    \n",
       "3 Charlie"
      ]
     },
     "metadata": {},
     "output_type": "display_data"
    }
   ],
   "source": [
    "# use can also access them using brackets and there column name\n",
    "my_data_frame[\"Name\"] # Coming from python this look very familiar."
   ]
  },
  {
   "cell_type": "markdown",
   "metadata": {
    "vscode": {
     "languageId": "r"
    }
   },
   "source": [
    "**Adding Rows and Columns**\n",
    "1. To add new rows, use the **rbind() function**.\n"
   ]
  },
  {
   "cell_type": "code",
   "execution_count": 19,
   "metadata": {
    "vscode": {
     "languageId": "r"
    }
   },
   "outputs": [
    {
     "data": {
      "text/html": [
       "<table class=\"dataframe\">\n",
       "<caption>A data.frame: 4 × 3</caption>\n",
       "<thead>\n",
       "\t<tr><th scope=col>Name</th><th scope=col>Age</th><th scope=col>Score</th></tr>\n",
       "\t<tr><th scope=col>&lt;chr&gt;</th><th scope=col>&lt;chr&gt;</th><th scope=col>&lt;chr&gt;</th></tr>\n",
       "</thead>\n",
       "<tbody>\n",
       "\t<tr><td>Alice  </td><td>25</td><td>85</td></tr>\n",
       "\t<tr><td>Bob    </td><td>30</td><td>92</td></tr>\n",
       "\t<tr><td>Charlie</td><td>22</td><td>78</td></tr>\n",
       "\t<tr><td>David  </td><td>28</td><td>91</td></tr>\n",
       "</tbody>\n",
       "</table>\n"
      ],
      "text/latex": [
       "A data.frame: 4 × 3\n",
       "\\begin{tabular}{lll}\n",
       " Name & Age & Score\\\\\n",
       " <chr> & <chr> & <chr>\\\\\n",
       "\\hline\n",
       "\t Alice   & 25 & 85\\\\\n",
       "\t Bob     & 30 & 92\\\\\n",
       "\t Charlie & 22 & 78\\\\\n",
       "\t David   & 28 & 91\\\\\n",
       "\\end{tabular}\n"
      ],
      "text/markdown": [
       "\n",
       "A data.frame: 4 × 3\n",
       "\n",
       "| Name &lt;chr&gt; | Age &lt;chr&gt; | Score &lt;chr&gt; |\n",
       "|---|---|---|\n",
       "| Alice   | 25 | 85 |\n",
       "| Bob     | 30 | 92 |\n",
       "| Charlie | 22 | 78 |\n",
       "| David   | 28 | 91 |\n",
       "\n"
      ],
      "text/plain": [
       "  Name    Age Score\n",
       "1 Alice   25  85   \n",
       "2 Bob     30  92   \n",
       "3 Charlie 22  78   \n",
       "4 David   28  91   "
      ]
     },
     "metadata": {},
     "output_type": "display_data"
    }
   ],
   "source": [
    "# Adding a new row to my_data_frame\n",
    "new_row <- c(\"David\", 28, 91) # New row to add\n",
    "updated_data_frame <- rbind(my_data_frame, new_row)\n",
    "updated_data_frame # Remeber you may need to wrap that in print. "
   ]
  },
  {
   "cell_type": "markdown",
   "metadata": {
    "vscode": {
     "languageId": "r"
    }
   },
   "source": [
    "2. To add new columns, **use the cbind() function**.\n",
    "\n"
   ]
  },
  {
   "cell_type": "code",
   "execution_count": 20,
   "metadata": {
    "vscode": {
     "languageId": "r"
    }
   },
   "outputs": [
    {
     "data": {
      "text/html": [
       "<table class=\"dataframe\">\n",
       "<caption>A data.frame: 3 × 4</caption>\n",
       "<thead>\n",
       "\t<tr><th scope=col>Name</th><th scope=col>Age</th><th scope=col>Score</th><th scope=col>Exam2</th></tr>\n",
       "\t<tr><th scope=col>&lt;chr&gt;</th><th scope=col>&lt;dbl&gt;</th><th scope=col>&lt;dbl&gt;</th><th scope=col>&lt;dbl&gt;</th></tr>\n",
       "</thead>\n",
       "<tbody>\n",
       "\t<tr><td>Alice  </td><td>25</td><td>85</td><td>88</td></tr>\n",
       "\t<tr><td>Bob    </td><td>30</td><td>92</td><td>76</td></tr>\n",
       "\t<tr><td>Charlie</td><td>22</td><td>78</td><td>95</td></tr>\n",
       "</tbody>\n",
       "</table>\n"
      ],
      "text/latex": [
       "A data.frame: 3 × 4\n",
       "\\begin{tabular}{llll}\n",
       " Name & Age & Score & Exam2\\\\\n",
       " <chr> & <dbl> & <dbl> & <dbl>\\\\\n",
       "\\hline\n",
       "\t Alice   & 25 & 85 & 88\\\\\n",
       "\t Bob     & 30 & 92 & 76\\\\\n",
       "\t Charlie & 22 & 78 & 95\\\\\n",
       "\\end{tabular}\n"
      ],
      "text/markdown": [
       "\n",
       "A data.frame: 3 × 4\n",
       "\n",
       "| Name &lt;chr&gt; | Age &lt;dbl&gt; | Score &lt;dbl&gt; | Exam2 &lt;dbl&gt; |\n",
       "|---|---|---|---|\n",
       "| Alice   | 25 | 85 | 88 |\n",
       "| Bob     | 30 | 92 | 76 |\n",
       "| Charlie | 22 | 78 | 95 |\n",
       "\n"
      ],
      "text/plain": [
       "  Name    Age Score Exam2\n",
       "1 Alice   25  85    88   \n",
       "2 Bob     30  92    76   \n",
       "3 Charlie 22  78    95   "
      ]
     },
     "metadata": {},
     "output_type": "display_data"
    }
   ],
   "source": [
    "# Add a new column\n",
    "new_column <- c(88, 76, 95) # New column to add\n",
    "updated_data_frame <- cbind(my_data_frame, Exam2 = new_column)\n",
    "updated_data_frame"
   ]
  },
  {
   "cell_type": "markdown",
   "metadata": {
    "vscode": {
     "languageId": "r"
    }
   },
   "source": [
    "**Removing Rows and Columns**\n",
    "1. To **remove** rows or columns, you can use **indexing**."
   ]
  },
  {
   "cell_type": "code",
   "execution_count": 21,
   "metadata": {
    "vscode": {
     "languageId": "r"
    }
   },
   "outputs": [
    {
     "data": {
      "text/html": [
       "<table class=\"dataframe\">\n",
       "<caption>A data.frame: 3 × 2</caption>\n",
       "<thead>\n",
       "\t<tr><th scope=col>Name</th><th scope=col>Age</th></tr>\n",
       "\t<tr><th scope=col>&lt;chr&gt;</th><th scope=col>&lt;dbl&gt;</th></tr>\n",
       "</thead>\n",
       "<tbody>\n",
       "\t<tr><td>Alice  </td><td>25</td></tr>\n",
       "\t<tr><td>Bob    </td><td>30</td></tr>\n",
       "\t<tr><td>Charlie</td><td>22</td></tr>\n",
       "</tbody>\n",
       "</table>\n"
      ],
      "text/latex": [
       "A data.frame: 3 × 2\n",
       "\\begin{tabular}{ll}\n",
       " Name & Age\\\\\n",
       " <chr> & <dbl>\\\\\n",
       "\\hline\n",
       "\t Alice   & 25\\\\\n",
       "\t Bob     & 30\\\\\n",
       "\t Charlie & 22\\\\\n",
       "\\end{tabular}\n"
      ],
      "text/markdown": [
       "\n",
       "A data.frame: 3 × 2\n",
       "\n",
       "| Name &lt;chr&gt; | Age &lt;dbl&gt; |\n",
       "|---|---|\n",
       "| Alice   | 25 |\n",
       "| Bob     | 30 |\n",
       "| Charlie | 22 |\n",
       "\n"
      ],
      "text/plain": [
       "  Name    Age\n",
       "1 Alice   25 \n",
       "2 Bob     30 \n",
       "3 Charlie 22 "
      ]
     },
     "metadata": {},
     "output_type": "display_data"
    }
   ],
   "source": [
    "# Remove the second row\n",
    "reduced_data_frame <- my_data_frame[-2, ]\n",
    "\n",
    "# Remove the \"Score\" column\n",
    "reduced_data_frame <- my_data_frame[, -3]\n",
    "\n",
    "reduced_data_frame"
   ]
  },
  {
   "cell_type": "markdown",
   "metadata": {},
   "source": [
    "**NB**: Data Frames have a lot more methods than we can cover in this simple tutorial. Find more about them in our R programming Course.\n",
    "\n",
    "**Bonus tip**: All the matrix methods ***dim()***, ***nrow()***, or ***ncol()*** work on data frames."
   ]
  },
  {
   "cell_type": "markdown",
   "metadata": {
    "vscode": {
     "languageId": "r"
    }
   },
   "source": [
    "## Exercise\n",
    "\n",
    "1. **Lists:**\n",
    "Create a list containing the following components\n",
    "    - A vector of your favorite colors (e.g., “red,” “green,” “blue”).\n",
    "    - Your age (as a numeric value).\n",
    "    - A logical value indicating whether you like coffee (e.g., TRUE or FALSE).\n",
    "\n",
    "2. **Vectors:**\n",
    "Create a numeric vector representing the temperatures (in Celsius) for a week\n",
    "    - Monday: 25°C\n",
    "    - Tuesday: 28°C\n",
    "    - Wednesday: 24°C\n",
    "\n",
    "3. **Matrices:**\n",
    "Create a 3x3 matrix representing a simple multiplication table\n",
    "    - Each cell (i, j) contains the product of i and j.\n",
    "\n",
    "4. **Data Frames:**\n",
    "Create a data frame with information about fictional employees\n",
    "    - Columns: “Name,” “Age,” “Salary.”\n",
    "    - Add at least three rows of data\n"
   ]
  }
 ],
 "metadata": {
  "kernelspec": {
   "display_name": "R",
   "language": "R",
   "name": "ir"
  },
  "language_info": {
   "codemirror_mode": "r",
   "file_extension": ".r",
   "mimetype": "text/x-r-source",
   "name": "R",
   "pygments_lexer": "r",
   "version": "4.3.2"
  }
 },
 "nbformat": 4,
 "nbformat_minor": 2
}
