{
 "cells": [
  {
   "cell_type": "markdown",
   "metadata": {},
   "source": [
    "---\n",
    "**Author**: *Mugabi Trevor .L*\n",
    "\n",
    "**Published**: *2024-09-02*\n",
    "\n",
    "**Keywords**: *R and Rstudio, Installation, Windows installation, Linux installation, macOS installation, Rstudio installation, Rstudio GUI*\n",
    "\n",
    "**Description**: *Introduction to R and Rstudio and how to install it onto your machine and some basic statements*\n",
    "\n",
    "---"
   ]
  },
  {
   "cell_type": "markdown",
   "metadata": {
    "editable": true,
    "slideshow": {
     "slide_type": ""
    },
    "tags": []
   },
   "source": [
    "\n",
    "# 1. Introduction to R programming \n",
    "\n",
    "---\n",
    "\n",
    "**Welcome to this tutorial on the R programming language!** R is a powerhouse for statistical analysis, and the best part? It's open-source, which means it’s completely free—no hidden fees, just pure analytical goodness.\n",
    "\n",
    "R was built with statisticians and data scientists in mind, making it a go-to tool for statistical computing and data analysis. Whether you’re running it on Windows, macOS, or Linux, R’s cross-platform compatibility ensures you can work seamlessly across different environments.\n",
    "\n",
    "But R isn’t just about crunching numbers. It’s also great at handling and processing large datasets, which is why it's often used in machine learning and AI projects. And when it comes to big data, R easily integrates with tools like Hadoop, as well as various databases for data storage and retrieval.\n",
    "\n",
    "One of R’s standout features is its ability to create stunning data visualizations. Whether you need high-quality static graphics or interactive visualizations, R has you covered with extensive customization options. And let’s not forget CRAN (Comprehensive R Archive Network), which boasts over 18,000 packages—an ecosystem so rich, it’s practically like an all-you-can-eat buffet for data analysts.\n",
    "\n",
    "Plus, with a strong and active community behind it, you’re never alone when using R. Whether you’re looking for support or just want to share your latest data-driven masterpiece, the R community has your back.\n",
    "\n",
    "So, dive in and start exploring what R can do for you. Just remember: with great power comes great responsibility... and really awesome graphs!"
   ]
  },
  {
   "cell_type": "markdown",
   "metadata": {},
   "source": [
    "# 2. Installing R and RStudio"
   ]
  },
  {
   "cell_type": "markdown",
   "metadata": {},
   "source": [
    "## Installing R"
   ]
  },
  {
   "cell_type": "markdown",
   "metadata": {},
   "source": [
    "Earlier, I mentioned that R is open-source software, meaning it's free to use—no costs involved. But you might be wondering, \"Where do I actually get it?\"\n",
    "\n",
    "No worries! Just follow along to install R on your machine. Let's get you set up so you can start crunching numbers and creating awesome visualizations in no time.\n",
    "\n",
    "To start using R, you need to install the R language itself. This process sets up the R environment on your machine. However, R by itself is just the language and does not include a user interface for writing or managing code. For that, you need an editor or Integrated Development Environment (IDE) to work with R.\n",
    "\n",
    "RStudio is a popular IDE specifically designed for R, offering a comprehensive suite of tools for coding, data analysis, and visualization. While RStudio is the primary environment we'll use in this tutorial, there are alternative editors and IDEs such as VS Code and Jupyter Notebooks that can also work with R. In this tutorial, we will primarily use RStudio but may occasionally use Jupyter Notebooks for specific tasks.\n",
    "\n",
    "The R  is freely available for Windows, Mac and Linux operating systems from the [Comprehensive R Archive Network (CRAN) website](\"https://cloud.r-project.org/\") and R studio is available free for download at [Rstudio-desktop](\"https://posit.co/download/rstudio-desktop/\")\n",
    "\n",
    "Make you way to the [Comprehensive R Archive Network (CRAN) website](\"https://cloud.r-project.org/\") and you will be greeted with the following page below\n",
    "\n",
    "<img src=\"R_installation_images/cran index pg.png\" alt=\"Cran home page\"/>\n",
    "\n",
    "Choose the operating system that your using or your planning to install R on and follow along as below "
   ]
  },
  {
   "cell_type": "markdown",
   "metadata": {
    "vscode": {
     "languageId": "r"
    }
   },
   "source": [
    "### 1. Windows installation \n",
    "\n",
    "Assuming you have made you way to the [Comprehensive R Archive Network (CRAN) website](\"https://cloud.r-project.org/\"). \n",
    "\n",
    "Select the **\"Download R for windows option\"** as shown by the Arrow below in the image\n",
    "\n",
    "<img src=\"R_installation_images\\windows_Selection.png\" alt=\"Select windows option from Cran page\" style=\"width:800px;height:500x\"/>\n",
    "\n",
    "After making the above selection, you will be brought to the next page below. Now click on **\"install R for the first time\"** which will take you to the next page.\n",
    "\n",
    "<img src=\"R_installation_images\\WIndow install pg_1.png\" alt=\"select windows base for the first time\" style=\"width:800px;height:500x\"/>\n",
    "\n",
    "This show be on your screen as shown below, all thats left to do is click on **\"Download R for Windows\"**, This should start your download of R.\n",
    "\n",
    "Select a path to where you would like to download your **R install exe** \n",
    "\n",
    "Please keep in mind to install an R version compatible with your system\n",
    "\n",
    "<img src=\"R_installation_images\\Win install pg_2.png\" alt=\"Download R\" style=\"width:800px;height:500x\"/>\n",
    "\n",
    "After the download is complete you can browse to your downloads and find the **R.exe** downloaded file and open it to run it as seen in the images below \n",
    "\n",
    "<img src=\"R_installation_images\\R_installation_exe.png\" alt=\"Downloaded R_exe in downloads\"/>\n",
    "\n",
    "After it has launched, select your preferred language, accept the terms and conditions and follow the rest of the instructions given by the installer \n",
    "\n",
    "<img src=\"R_installation_images\\lang_selection.png\" alt=\"launched R_exe \">\n",
    "\n",
    "**NOTE**: i would recommend you leave the default R set path to prevent any issues that may arise if your change the installation directory \n",
    "\n",
    "<img src=\"R_installation_images\\set_R_filepath.png\" alt=\"default dir\" style=\"width:500px;height:500x\"/>\n"
   ]
  },
  {
   "cell_type": "markdown",
   "metadata": {
    "vscode": {
     "languageId": "r"
    }
   },
   "source": [
    "### 2. macOS installation \n",
    "\n",
    "Assuming you have made you way to the [Comprehensive R Archive Network (CRAN) website](\"https://cloud.r-project.org/\"). \n",
    "\n",
    "To install R on macOS, follow these steps:\n",
    "\n",
    "1. **Download the R Installer:**\n",
    "\n",
    "   - Visit the [Comprehensive R Archive Network (CRAN)](https://cloud.r-project.org/) website.\n",
    "   - Click on the link for the latest version of R for macOS.\n",
    "   - Download the `.pkg` file.\n",
    "\n",
    "2. **Install R:**\n",
    "\n",
    "   - Once the download is complete, open the `.pkg` file.\n",
    "   - Follow the installation instructions to complete the process.\n",
    "\n",
    "3. **Verify the Installation:**\n",
    "\n",
    "   - Open the Terminal and type:\n",
    "     ```{bash}\n",
    "     R --version\n",
    "     ```\n",
    "   - This will display the installed R version, confirming the installation was successful.\n",
    "\n"
   ]
  },
  {
   "cell_type": "markdown",
   "metadata": {},
   "source": [
    "### 3. Linux installation"
   ]
  },
  {
   "cell_type": "markdown",
   "metadata": {},
   "source": [
    "Assuming you have made you way to the [Comprehensive R Archive Network (CRAN) website](\"https://cloud.r-project.org/\"). \n",
    "\n",
    "To install R on a Linux distribution like Ubuntu, follow these steps:\n",
    "\n",
    "1. **Update the Package List:**\n",
    "\n",
    "   Open your terminal and run\n",
    "   \n",
    "   ``` {bash}\n",
    "   sudo apt-get update\n",
    "   ```\n",
    "   \n",
    "2.  **Install the base R system using the following command:**\n",
    "\n",
    "   ``` {bash}\n",
    "   sudo apt-get install r-base\n",
    "   ```\n",
    "\n",
    "3. **Verify the Installation:**\n",
    "   ``` {bash}\n",
    "   R --version\n",
    "   ```"
   ]
  },
  {
   "cell_type": "markdown",
   "metadata": {},
   "source": [
    "## Installing Rstudio \n"
   ]
  },
  {
   "cell_type": "markdown",
   "metadata": {
    "vscode": {
     "languageId": "r"
    }
   },
   "source": [
    "\n",
    "### Installing RStudio on Linux, macOS, and Windows\n",
    "\n",
    "After installing R, you can install RStudio, an Integrated Development Environment (IDE) for R. Follow the steps for your specific operating system. The website Auto detects your system and offers you the right package for your machine\n",
    "\n",
    "#### 1. Installing RStudio on Linux\n",
    "\n",
    "-  **Download RStudio :**\n",
    "\n",
    "   - Visit the [RStudio Download Page](https://www.rstudio.com/products/rstudio/download/).\n",
    "   \n",
    "   <img src=\"R_installation_images\\rstudio_index.png\" alt=\"Rstudio home page\" style=\"width:800px;height:500x\"/>\n",
    "\n",
    "   - Scroll down to the **RStudio Desktop** section and select the version for Linux (e.g., `.deb` or `.rpm` file).\n",
    "\n",
    "-  **Install RStudio:**\n",
    "\n",
    "   - For Ubuntu or Debian-based distributions, use:\n",
    "     ``` {bash}\n",
    "     sudo dpkg -i rstudio-x.y.z-amd64.deb\n",
    "     ```\n",
    "     Replace `x.y.z` with the version number you downloaded.\n",
    "   - For Red Hat or Fedora-based distributions, use:\n",
    "     ``` {bash}\n",
    "     sudo yum install rstudio-x.y.z-x86_64.rpm\n",
    "     ```\n",
    "\n",
    "-  **Launch RStudio:**\n",
    "\n",
    "   - Open RStudio from the terminal by typing `rstudio`, or find it in your application menu.\n",
    "\n",
    "#### 2. Installing RStudio on macOS\n",
    "\n",
    "-  **Download RStudio:**\n",
    "\n",
    "   - Go to the [RStudio Download Page](https://www.rstudio.com/products/rstudio/download/).\n",
    "   - Select the version for macOS and download the `.dmg` file.\n",
    "\n",
    "-  **Install RStudio:**\n",
    "\n",
    "   - Open the downloaded `.dmg` file.\n",
    "   - Drag the RStudio icon into your Applications folder.\n",
    "\n",
    "-  **Launch RStudio:**\n",
    "\n",
    "   - Go to your Applications folder and double-click on the RStudio icon to start.\n",
    "\n",
    "#### 3. Installing RStudio on Windows\n",
    "\n",
    "-  **Download RStudio:**\n",
    "\n",
    "   - Go to the [RStudio Download Page](https://www.rstudio.com/products/rstudio/download/).\n",
    "   - Select the version for Windows and download the `.exe` file.\n",
    "\n",
    "-  **Install RStudio:**\n",
    "\n",
    "   - Run the downloaded `.exe` file.\n",
    "   - Follow the installation instructions to complete the setup.\n",
    "\n",
    "-  **Launch RStudio:**\n",
    "\n",
    "   - After installation, you can find RStudio in your Start Menu. Click to open it.\n",
    "\n",
    " You're now ready to start coding in R with RStudio!\n"
   ]
  },
  {
   "cell_type": "markdown",
   "metadata": {
    "vscode": {
     "languageId": "r"
    }
   },
   "source": [
    "# 3. Writing R \n",
    "if you have successfully installed R and Rstudio on your machine. if you fire up Rstudio it will look something like below \n",
    "\n",
    "<img src=\"R_installation_images\\R_Studio_gui.png\" alt=\"R_gui\"/>\n",
    "\n",
    "The purple arrow points to where we shall write out R code.\n",
    "\n",
    "The green arrow points at the console panel where the output of your run code appears.\n",
    "\n",
    "The white arrow points at the plot panel where the plots appear after code that visuallses is runs.\n",
    "\n",
    "The Grey arrow points at a collapsed area known as the environment panel which shows your working environment and all variables  in the R session.\n",
    "\n",
    "\n",
    "\n",
    "**Note:** Don't be put off if your theme is completely white thats one the features of the IDE (Rstudio) where you can choose one according to your preferences\n",
    "\n",
    "\n"
   ]
  },
  {
   "cell_type": "markdown",
   "metadata": {
    "vscode": {
     "languageId": "r"
    }
   },
   "source": [
    "# 4. Displaying Output\n",
    "\n",
    "Given the example code below,if you copy it and paste it into the scripting area as shown in the image above and press **Run** or **hold Control + Return keys**. it will show you the out put in the console area as shown the image above.. expect your output there"
   ]
  },
  {
   "cell_type": "code",
   "execution_count": 1,
   "metadata": {
    "vscode": {
     "languageId": "r"
    }
   },
   "outputs": [
    {
     "name": "stdout",
     "output_type": "stream",
     "text": [
      "[1] \"Welcome to R programming\"\n"
     ]
    }
   ],
   "source": [
    "print(\"Welcome to R programming\")"
   ]
  },
  {
   "cell_type": "markdown",
   "metadata": {
    "vscode": {
     "languageId": "r"
    }
   },
   "source": [
    "# 5. Basic Statements\n",
    "\n",
    "Well to start you off with the basics the first program by tradition in any programming language to write is the print(\"Hello world\") but i think we live in modern times you can print whatever we want.Wait whats that? what does the print() function do?, well it prints out to the console whatever is passed into it as an argument.thats to say i could say any of these below and it would print them out.\n",
    "\n",
    "print(\"How many programmers does it take to change a light bulb? None. It’s a hardware problem!\")\n",
    "\n",
    "print(\" Why do programmers prefer dark mode? Because light attracts bugs!\")\n",
    "\n",
    "print(\"Why do Java developers wear glasses? Because they don’t see sharp!\")\n",
    "\n",
    "print(\"Why did the statistician bring a ladder to the bar? Because they heard the drinks were on the house!\")\n",
    "\n",
    "Lets give all the above a try below and see the output."
   ]
  },
  {
   "cell_type": "code",
   "execution_count": 2,
   "metadata": {
    "vscode": {
     "languageId": "r"
    }
   },
   "outputs": [
    {
     "name": "stdout",
     "output_type": "stream",
     "text": [
      "[1] \"How many programmers does it take to change a light bulb? None. It’s a hardware problem!\"\n"
     ]
    }
   ],
   "source": [
    "print(\"How many programmers does it take to change a light bulb? None. It’s a hardware problem!\")"
   ]
  },
  {
   "cell_type": "code",
   "execution_count": 3,
   "metadata": {
    "vscode": {
     "languageId": "r"
    }
   },
   "outputs": [
    {
     "name": "stdout",
     "output_type": "stream",
     "text": [
      "[1] \" Why do programmers prefer dark mode? Because light attracts bugs!\"\n"
     ]
    }
   ],
   "source": [
    "print(\" Why do programmers prefer dark mode? Because light attracts bugs!\")"
   ]
  },
  {
   "cell_type": "code",
   "execution_count": 4,
   "metadata": {
    "vscode": {
     "languageId": "r"
    }
   },
   "outputs": [
    {
     "name": "stdout",
     "output_type": "stream",
     "text": [
      "[1] \"Why do Java developers wear glasses? Because they don’t see sharp!\"\n"
     ]
    }
   ],
   "source": [
    "print(\"Why do Java developers wear glasses? Because they don’t see sharp!\")"
   ]
  },
  {
   "cell_type": "code",
   "execution_count": 5,
   "metadata": {
    "vscode": {
     "languageId": "r"
    }
   },
   "outputs": [
    {
     "name": "stdout",
     "output_type": "stream",
     "text": [
      "[1] \"Why did the statistician bring a ladder to the bar? Because they heard the drinks were on the house!\"\n"
     ]
    }
   ],
   "source": [
    "print(\"Why did the statistician bring a ladder to the bar? Because they heard the drinks were on the house!\")"
   ]
  },
  {
   "cell_type": "code",
   "execution_count": 6,
   "metadata": {
    "vscode": {
     "languageId": "r"
    }
   },
   "outputs": [
    {
     "name": "stdout",
     "output_type": "stream",
     "text": [
      "[1] \"Why did the statistician bring a ladder to the bar? Because they heard the drinks were on the house!\"\n"
     ]
    }
   ],
   "source": [
    "print(\"Why did the statistician bring a ladder to the bar? Because they heard the drinks were on the house!\")"
   ]
  },
  {
   "cell_type": "markdown",
   "metadata": {
    "vscode": {
     "languageId": "r"
    }
   },
   "source": [
    "I guess you now know what the print() function does and what an argument is. its whatever you input into the function"
   ]
  },
  {
   "cell_type": "markdown",
   "metadata": {
    "vscode": {
     "languageId": "r"
    }
   },
   "source": [
    "# 6. Syntax and Structure\n",
    "\n",
    "R is a powerful language for statistical computing and graphics. Understanding its basic syntax and structure will help you get started with writing and running R code effectively.\n",
    "\n",
    "## 1. Variables in R are created using the <- operator or = operator. R is case-sensitive.\n"
   ]
  },
  {
   "cell_type": "code",
   "execution_count": 7,
   "metadata": {
    "vscode": {
     "languageId": "r"
    }
   },
   "outputs": [],
   "source": [
    "x <- 10  # Using the <- operator\n",
    "y = 20    # Using the = operator"
   ]
  },
  {
   "cell_type": "markdown",
   "metadata": {},
   "source": [
    "## 2. Data Types\n",
    "\n",
    "R supports several data types\n",
    "Numeric: Represents real numbers\n",
    "Integer: Represents whole numbers (use L suffix).\n",
    "Character: Represents text.\n",
    "Logical: Represents boolean values (TRUE or FALSE)."
   ]
  },
  {
   "cell_type": "code",
   "execution_count": 8,
   "metadata": {
    "vscode": {
     "languageId": "r"
    }
   },
   "outputs": [
    {
     "name": "stdout",
     "output_type": "stream",
     "text": [
      "[1] 3.14\n",
      "[1] 42\n",
      "[1] \"Hello, R!\"\n",
      "[1] TRUE\n"
     ]
    }
   ],
   "source": [
    "# This is a numeric\n",
    "num <- 3.14 \n",
    "print(num)\n",
    "# This is an int\n",
    "int_num <- 42L \n",
    "print(int_num)\n",
    "# This is a character\n",
    "text <- \"Hello, R!\"\n",
    "print(text) \n",
    "# this is a logical \n",
    "flag <- TRUE\n",
    "print(flag)"
   ]
  },
  {
   "cell_type": "markdown",
   "metadata": {
    "vscode": {
     "languageId": "r"
    }
   },
   "source": [
    "## 3. Basic Math Operations\n",
    "\n",
    "**R** supports standard mathematical operations: Let x be 2 and y be 4."
   ]
  },
  {
   "cell_type": "code",
   "execution_count": 9,
   "metadata": {
    "vscode": {
     "languageId": "r"
    }
   },
   "outputs": [],
   "source": [
    "# Assigning the values.\n",
    "x <- 2\n",
    "y <- 4\n"
   ]
  },
  {
   "cell_type": "markdown",
   "metadata": {
    "vscode": {
     "languageId": "r"
    }
   },
   "source": [
    "**Addition: +**"
   ]
  },
  {
   "cell_type": "code",
   "execution_count": 10,
   "metadata": {
    "vscode": {
     "languageId": "r"
    }
   },
   "outputs": [
    {
     "name": "stdout",
     "output_type": "stream",
     "text": [
      "[1] 6\n"
     ]
    }
   ],
   "source": [
    "# adding x and y\n",
    "sum <- x + y\n",
    "print(sum)"
   ]
  },
  {
   "cell_type": "markdown",
   "metadata": {
    "vscode": {
     "languageId": "r"
    }
   },
   "source": [
    "**Subtraction: -**"
   ]
  },
  {
   "cell_type": "code",
   "execution_count": 11,
   "metadata": {
    "vscode": {
     "languageId": "r"
    }
   },
   "outputs": [
    {
     "name": "stdout",
     "output_type": "stream",
     "text": [
      "[1] -2\n"
     ]
    }
   ],
   "source": [
    "# getting there difference\n",
    "difference <- x - y\n",
    "print(difference)"
   ]
  },
  {
   "cell_type": "markdown",
   "metadata": {
    "vscode": {
     "languageId": "r"
    }
   },
   "source": [
    "**Multiplication: ***"
   ]
  },
  {
   "cell_type": "code",
   "execution_count": 12,
   "metadata": {
    "vscode": {
     "languageId": "r"
    }
   },
   "outputs": [
    {
     "name": "stdout",
     "output_type": "stream",
     "text": [
      "[1] 8\n"
     ]
    }
   ],
   "source": [
    "# getting there product\n",
    "product <- x * y\n",
    "print(product)"
   ]
  },
  {
   "cell_type": "markdown",
   "metadata": {
    "vscode": {
     "languageId": "r"
    }
   },
   "source": [
    "**Division: /**"
   ]
  },
  {
   "cell_type": "code",
   "execution_count": 13,
   "metadata": {
    "vscode": {
     "languageId": "r"
    }
   },
   "outputs": [
    {
     "name": "stdout",
     "output_type": "stream",
     "text": [
      "[1] 0.5\n"
     ]
    }
   ],
   "source": [
    "# dividing the two numbers\n",
    "quotient <- x / y\n",
    "print(quotient)"
   ]
  },
  {
   "cell_type": "markdown",
   "metadata": {
    "vscode": {
     "languageId": "r"
    }
   },
   "source": [
    "**Exponentiation: ^**"
   ]
  },
  {
   "cell_type": "code",
   "execution_count": 14,
   "metadata": {
    "vscode": {
     "languageId": "r"
    }
   },
   "outputs": [
    {
     "name": "stdout",
     "output_type": "stream",
     "text": [
      "[1] 4\n"
     ]
    }
   ],
   "source": [
    "# raising x to the exponent of 2\n",
    "power <- x ^ 2\n",
    "print(power)"
   ]
  },
  {
   "cell_type": "markdown",
   "metadata": {
    "vscode": {
     "languageId": "r"
    }
   },
   "source": [
    "**Modulus: %% (remainder after division)**"
   ]
  },
  {
   "cell_type": "code",
   "execution_count": 15,
   "metadata": {
    "vscode": {
     "languageId": "r"
    }
   },
   "outputs": [
    {
     "name": "stdout",
     "output_type": "stream",
     "text": [
      "[1] 2\n"
     ]
    }
   ],
   "source": [
    "# finding the remainder for the divison of x by y\n",
    "remainder <- x %% y\n",
    "print(remainder)"
   ]
  },
  {
   "cell_type": "markdown",
   "metadata": {
    "vscode": {
     "languageId": "r"
    }
   },
   "source": [
    "# 7. Comments\n",
    "\n",
    "To write a comment in R programming we using the hash sign \"#\". \"what's a comment i hear My soon to be R Wizard!\"\n",
    "Well a comment is a way to tell R to ignore some input and not treat it as code. We use comments to leave our selves bread crumbs to follow in the future that explain exactly what assumptions were taken or what the code does.\n",
    "\n",
    "Commenting is a very important part of R wizarding. You need to leave comments for yourself and maybe your team mates to read and understand what's going on or why your did something in the code\n",
    "\n",
    "Take a look at the examples below"
   ]
  },
  {
   "cell_type": "code",
   "execution_count": 16,
   "metadata": {
    "vscode": {
     "languageId": "r"
    }
   },
   "outputs": [],
   "source": [
    "# This is a comment my young R wizard it wont be run but ignored and no output will be returned if the cell is run "
   ]
  },
  {
   "cell_type": "code",
   "execution_count": 17,
   "metadata": {
    "vscode": {
     "languageId": "r"
    }
   },
   "outputs": [
    {
     "name": "stdout",
     "output_type": "stream",
     "text": [
      "[1] \"I the R wizard of R lang, call upon the print func.\"\n"
     ]
    }
   ],
   "source": [
    "# you can also use comments to document as below \n",
    "# Me summoning my R powers below\n",
    "print(\"I the R wizard of R lang, call upon the print func.\")\n",
    "# YES YEs yes yessss do you fill the power fo comments yet "
   ]
  },
  {
   "cell_type": "markdown",
   "metadata": {
    "vscode": {
     "languageId": "r"
    }
   },
   "source": [
    "# 8. Exercise"
   ]
  },
  {
   "cell_type": "markdown",
   "metadata": {
    "notebookRunGroups": {
     "groupValue": "2"
    },
    "vscode": {
     "languageId": "r"
    }
   },
   "source": [
    "**Objective**: Get hands-on practice with comments, variables, data types, and basic math operations in **R**.\n",
    "\n",
    "* **Instructions**:\n",
    "    - Create three variables: a, b, and c. \n",
    "    - Print the results of each operation using the print() function.\n",
    "    - Include a descriptive comment before each operation to explain what it does.\n",
    "\n",
    "1. Assign the following values to them:\n",
    "    - a: 10 (Numeric)\n",
    "    - b: 3.5 (Numeric)\n",
    "    - c: \"R Programming\" (Character)\n",
    "\n",
    "\n",
    "2. Compute the following operations using the variables:\n",
    "    - Addition of a and b\n",
    "    - Subtraction of b from a\n",
    "    - Multiplication of a and b\n",
    "    - Division of a by b\n",
    "    - Exponentiation of b raised to the power of a\n",
    "    - Print Results\n",
    "\n"
   ]
  }
 ],
 "metadata": {
  "kernelspec": {
   "display_name": "R",
   "language": "R",
   "name": "ir"
  },
  "language_info": {
   "codemirror_mode": "r",
   "file_extension": ".r",
   "mimetype": "text/x-r-source",
   "name": "R",
   "pygments_lexer": "r",
   "version": "4.3.2"
  }
 },
 "nbformat": 4,
 "nbformat_minor": 4
}
