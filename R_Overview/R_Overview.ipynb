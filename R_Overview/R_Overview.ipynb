{
 "cells": [
  {
   "cell_type": "markdown",
   "metadata": {},
   "source": [
    "# Introduction to R programming \n",
    "\n",
    "Mugabi Trevor .L\n",
    "\n",
    "\n",
    "**Welcome to this tutorial on the R programming language!** R is a powerhouse for statistical analysis, and the best part? It's open-source, which means it’s completely free—no hidden fees, just pure analytical goodness.\n",
    "\n",
    "R was built with statisticians and data scientists in mind, making it a go-to tool for statistical computing and data analysis. Whether you’re running it on Windows, macOS, or Linux, R’s cross-platform compatibility ensures you can work seamlessly across different environments.\n",
    "\n",
    "But R isn’t just about crunching numbers. It’s also great at handling and processing large datasets, which is why it's often used in machine learning and AI projects. And when it comes to big data, R easily integrates with tools like Hadoop, as well as various databases for data storage and retrieval.\n",
    "\n",
    "One of R’s standout features is its ability to create stunning data visualizations. Whether you need high-quality static graphics or interactive visualizations, R has you covered with extensive customization options. And let’s not forget CRAN (Comprehensive R Archive Network), which boasts over 18,000 packages—an ecosystem so rich, it’s practically like an all-you-can-eat buffet for data analysts.\n",
    "\n",
    "Plus, with a strong and active community behind it, you’re never alone when using R. Whether you’re looking for support or just want to share your latest data-driven masterpiece, the R community has your back.\n",
    "\n",
    "So, dive in and start exploring what R can do for you. Just remember: with great power comes great responsibility... and really awesome graphs!"
   ]
  },
  {
   "cell_type": "markdown",
   "metadata": {},
   "source": [
    "# Installing R and RStudio"
   ]
  },
  {
   "cell_type": "markdown",
   "metadata": {},
   "source": [
    "## Installing R"
   ]
  },
  {
   "cell_type": "markdown",
   "metadata": {},
   "source": [
    "Earlier, I mentioned that R is open-source software, meaning it's free to use—no costs involved. But you might be wondering, \"Where do I actually get it?\"\n",
    "\n",
    "No worries! Just follow along to install R on your machine. Let's get you set up so you can start crunching numbers and creating awesome visualizations in no time.\n",
    "\n",
    "To start using R, you need to install the R language itself. This process sets up the R environment on your machine. However, R by itself is just the language and does not include a user interface for writing or managing code. For that, you need an editor or Integrated Development Environment (IDE) to work with R.\n",
    "\n",
    "RStudio is a popular IDE specifically designed for R, offering a comprehensive suite of tools for coding, data analysis, and visualization. While RStudio is the primary environment we'll use in this tutorial, there are alternative editors and IDEs such as VS Code and Jupyter Notebooks that can also work with R. In this tutorial, we will primarily use RStudio but may occasionally use Jupyter Notebooks for specific tasks.\n",
    "\n",
    "The R  is freely available for Windows, Mac and Linux operating systems from the [Comprehensive R Archive Network (CRAN) website](\"https://cloud.r-project.org/\") and R studio is available free for download at [Rstudio-desktop](\"https://posit.co/download/rstudio-desktop/\")\n",
    "\n",
    "Make you way to the [Comprehensive R Archive Network (CRAN) website](\"https://cloud.r-project.org/\") and you will be greeted with the following page below\n",
    "\n",
    "<img src=\"R_installation_images/cran index pg.png\" alt=\"Cran home page\"/>\n",
    "\n",
    "Choose the operating system that your using or your planning to install R on and follow along as below "
   ]
  },
  {
   "cell_type": "markdown",
   "metadata": {
    "vscode": {
     "languageId": "r"
    }
   },
   "source": [
    "### Windows installation \n",
    "\n",
    "Assuming you have made you way to the [Comprehensive R Archive Network (CRAN) website](\"https://cloud.r-project.org/\"). \n",
    "\n",
    "Select the **\"Download R for windows option\"** as shown by the Arrow below in the image\n",
    "\n",
    "<img src=\"R_installation_images\\windows_Selection.png\" alt=\"Select windows option from Cran page\" style=\"width:800px;height:500x\"/>\n",
    "\n",
    "After making the above selection, you will be brought to the next page below. Now click on **\"install R for the first time\"** which will take you to the next page.\n",
    "\n",
    "<img src=\"R_installation_images\\WIndow install pg_1.png\" alt=\"select windows base for the first time\" style=\"width:800px;height:500x\"/>\n",
    "\n",
    "This show be on your screen as shown below, all thats left to do is click on **\"Download R for Windows\"**, This should start your download of R.\n",
    "\n",
    "Select a path to where you would like to download your **R install exe** \n",
    "\n",
    "Please keep in mind to install an R version compatible with your system\n",
    "\n",
    "<img src=\"R_installation_images\\Win install pg_2.png\" alt=\"Download R\" style=\"width:800px;height:500x\"/>\n",
    "\n",
    "After the download is complete you can browse to your downloads and find the **R.exe** downloaded file and open it to run it as seen in the images below \n",
    "\n",
    "<img src=\"R_installation_images\\R_installation_exe.png\" alt=\"Downloaded R_exe in downloads\"/>\n",
    "\n",
    "After it has launched, select your preferred language, accept the terms and conditions and follow the rest of the instructions given by the installer \n",
    "\n",
    "<img src=\"R_installation_images\\lang_selection.png\" alt=\"launched R_exe \">\n",
    "\n",
    "**NOTE**: i would recommend you leave the default R set path to prevent any issues that may arise if your change the installation directory \n",
    "\n",
    "<img src=\"R_installation_images\\set_R_filepath.png\" alt=\"default dir\" style=\"width:500px;height:500x\"/>\n"
   ]
  },
  {
   "cell_type": "markdown",
   "metadata": {
    "vscode": {
     "languageId": "r"
    }
   },
   "source": [
    "### macOS installation \n",
    "\n",
    "Assuming you have made you way to the [Comprehensive R Archive Network (CRAN) website](\"https://cloud.r-project.org/\"). \n",
    "\n",
    "To install R on macOS, follow these steps:\n",
    "\n",
    "1. **Download the R Installer:**\n",
    "\n",
    "   - Visit the [Comprehensive R Archive Network (CRAN)](https://cloud.r-project.org/) website.\n",
    "   - Click on the link for the latest version of R for macOS.\n",
    "   - Download the `.pkg` file.\n",
    "\n",
    "2. **Install R:**\n",
    "\n",
    "   - Once the download is complete, open the `.pkg` file.\n",
    "   - Follow the installation instructions to complete the process.\n",
    "\n",
    "3. **Verify the Installation:**\n",
    "\n",
    "   - Open the Terminal and type:\n",
    "     ```{bash}\n",
    "     R --version\n",
    "     ```\n",
    "   - This will display the installed R version, confirming the installation was successful.\n",
    "\n"
   ]
  },
  {
   "cell_type": "markdown",
   "metadata": {},
   "source": [
    "### Linux installation"
   ]
  },
  {
   "cell_type": "markdown",
   "metadata": {},
   "source": [
    "Assuming you have made you way to the [Comprehensive R Archive Network (CRAN) website](\"https://cloud.r-project.org/\"). \n",
    "\n",
    "To install R on a Linux distribution like Ubuntu, follow these steps:\n",
    "\n",
    "- **Update the Package List:**\n",
    "\n",
    "   Open your terminal and run\n",
    "   \n",
    "   ``` {bash}\n",
    "   sudo apt-get update\n",
    "   ```\n",
    "   \n",
    "-  **Install the base R system using the following command:**\n",
    "\n",
    "   ``` {bash}\n",
    "   sudo apt-get install r-base\n",
    "   ```\n",
    "\n",
    "- **Verify the Installation:**\n",
    "   ``` {bash}\n",
    "   R --version\n",
    "   ```"
   ]
  },
  {
   "cell_type": "markdown",
   "metadata": {},
   "source": [
    "## Installing Rstudio \n"
   ]
  },
  {
   "cell_type": "markdown",
   "metadata": {
    "vscode": {
     "languageId": "r"
    }
   },
   "source": [
    "\n",
    "### Installing RStudio on Linux, macOS, and Windows\n",
    "\n",
    "After installing R, you can install RStudio, an Integrated Development Environment (IDE) for R. Follow the steps for your specific operating system. The website Auto detects your system and offers you the right package for your machine\n",
    "\n",
    "#### Installing RStudio on Linux\n",
    "\n",
    "-  **Download RStudio:**\n",
    "\n",
    "   - Visit the [RStudio Download Page](https://www.rstudio.com/products/rstudio/download/).\n",
    "   \n",
    "   <img src=\"R_installation_images\\rstudio_index.png\" alt=\"Rstudio home page\" style=\"width:800px;height:500x\"/>\n",
    "\n",
    "   - Scroll down to the **RStudio Desktop** section and select the version for Linux (e.g., `.deb` or `.rpm` file).\n",
    "\n",
    "-  **Install RStudio:**\n",
    "\n",
    "   - For Ubuntu or Debian-based distributions, use:\n",
    "     ``` {bash}\n",
    "     sudo dpkg -i rstudio-x.y.z-amd64.deb\n",
    "     ```\n",
    "     Replace `x.y.z` with the version number you downloaded.\n",
    "   - For Red Hat or Fedora-based distributions, use:\n",
    "     ``` {bash}\n",
    "     sudo yum install rstudio-x.y.z-x86_64.rpm\n",
    "     ```\n",
    "\n",
    "-  **Launch RStudio:**\n",
    "\n",
    "   - Open RStudio from the terminal by typing `rstudio`, or find it in your application menu.\n",
    "\n",
    "#### Installing RStudio on macOS\n",
    "\n",
    "-  **Download RStudio:**\n",
    "\n",
    "   - Go to the [RStudio Download Page](https://www.rstudio.com/products/rstudio/download/).\n",
    "   - Select the version for macOS and download the `.dmg` file.\n",
    "\n",
    "-  **Install RStudio:**\n",
    "\n",
    "   - Open the downloaded `.dmg` file.\n",
    "   - Drag the RStudio icon into your Applications folder.\n",
    "\n",
    "-  **Launch RStudio:**\n",
    "\n",
    "   - Go to your Applications folder and double-click on the RStudio icon to start.\n",
    "\n",
    "#### Installing RStudio on Windows\n",
    "\n",
    "-  **Download RStudio:**\n",
    "\n",
    "   - Go to the [RStudio Download Page](https://www.rstudio.com/products/rstudio/download/).\n",
    "   - Select the version for Windows and download the `.exe` file.\n",
    "\n",
    "-  **Install RStudio:**\n",
    "\n",
    "   - Run the downloaded `.exe` file.\n",
    "   - Follow the installation instructions to complete the setup.\n",
    "\n",
    "-  **Launch RStudio:**\n",
    "\n",
    "   - After installation, you can find RStudio in your Start Menu. Click to open it.\n",
    "\n",
    " You're now ready to start coding in R with RStudio!\n"
   ]
  },
  {
   "cell_type": "markdown",
   "metadata": {
    "vscode": {
     "languageId": "r"
    }
   },
   "source": [
    "# Writing R \n",
    "if you have successfully installed R and Rstudio on your machine. if you fire up Rstudio it will look something like below \n",
    "\n",
    "<img src=\"R_installation_images\\R_Studio_gui.png\" alt=\"R_gui\"/>\n",
    "\n",
    "The purple arrow points to where we shall write out R code.\n",
    "\n",
    "The green arrow points at the console panel where the output of your run code appears.\n",
    "\n",
    "The white arrow points at the plot panel where the plots appear after code that visuallses is runs.\n",
    "\n",
    "The Grey arrow points at a collapsed area known as the environment panel which shows your working environment and all variables  in the R session.\n",
    "\n",
    "\n",
    "\n",
    "**Note:** Don't be put off if your theme is completely white thats one the features of the IDE (Rstudio) where you can choose one according to your preferences\n",
    "\n",
    "\n"
   ]
  },
  {
   "cell_type": "markdown",
   "metadata": {
    "vscode": {
     "languageId": "r"
    }
   },
   "source": [
    "# Displaying Output\n"
   ]
  },
  {
   "cell_type": "markdown",
   "metadata": {
    "vscode": {
     "languageId": "r"
    }
   },
   "source": [
    "# Basic Statements\n"
   ]
  },
  {
   "cell_type": "markdown",
   "metadata": {
    "vscode": {
     "languageId": "r"
    }
   },
   "source": [
    "# Syntax and Structure"
   ]
  },
  {
   "cell_type": "markdown",
   "metadata": {
    "vscode": {
     "languageId": "r"
    }
   },
   "source": [
    "# Comments\n"
   ]
  },
  {
   "cell_type": "markdown",
   "metadata": {
    "vscode": {
     "languageId": "r"
    }
   },
   "source": [
    "# Exercise"
   ]
  }
 ],
 "metadata": {
  "kernelspec": {
   "display_name": "R",
   "language": "R",
   "name": "ir"
  },
  "language_info": {
   "codemirror_mode": "r",
   "file_extension": ".r",
   "mimetype": "text/x-r-source",
   "name": "R",
   "pygments_lexer": "r",
   "version": "4.3.2"
  }
 },
 "nbformat": 4,
 "nbformat_minor": 4
}
