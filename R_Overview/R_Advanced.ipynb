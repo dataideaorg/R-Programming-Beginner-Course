{
 "cells": [
  {
   "cell_type": "markdown",
   "metadata": {
    "vscode": {
     "languageId": "r"
    }
   },
   "source": [
    "---\n",
    "**Author**: *Mugabi Trevor*\n",
    "\n",
    "**Published**: *2024-09-07*\n",
    "\n",
    "**Keywords**: *OOP, Advanced Functions, Scoping Rules, Error Handling*\n",
    "\n",
    "**Description**: *Advanced R*\n",
    "\n",
    "---"
   ]
  },
  {
   "cell_type": "markdown",
   "metadata": {
    "vscode": {
     "languageId": "r"
    }
   },
   "source": [
    "# Advanced Functions\n",
    "**In R**, advanced functions refer to features and techniques that allow you to write more efficient, flexible, and powerful code.\\\n",
    "These functions go beyond basic operations and include concepts such as functional programming, custom function writing, and handling more complex data structures\n"
   ]
  },
  {
   "cell_type": "markdown",
   "metadata": {
    "vscode": {
     "languageId": "r"
    }
   },
   "source": [
    "# Object-Oriented Programming (S3 and S4 Classes)\n",
    "\n",
    "Object-Oriented Programming (OOP) in **R** primarily revolves around **S3 and S4 classes**, each representing different paradigms of object-oriented design. **R** also has **R5** classes, but the most commonly used OOP systems in **R are S3 and S4**. Let's explore these two approaches with examples.\n",
    "\n",
    "**1. S3 Classes**:\n",
    "- **S3** is the simplest and most commonly used OOP system in **R**. It is informal and flexible, making it easy to use but less strict compared to other OOP systems like **S4**. **S3** doesn't require formal definitions of classes or methods.\n",
    "\n",
    "- **Key Concepts**:\n",
    "    - **No formal class definition**: You don’t need to explicitly define the class structure.\n",
    "    - **Generic functions**: Functions like print(), summary(), etc., can be extended to handle different object types based on their class.\n",
    "    - **Method dispatch**: The method is chosen based on the class of the object.\n",
    "\n",
    "***Example of S3***"
   ]
  },
  {
   "cell_type": "code",
   "execution_count": 1,
   "metadata": {
    "vscode": {
     "languageId": "r"
    }
   },
   "outputs": [
    {
     "name": "stdout",
     "output_type": "stream",
     "text": [
      "Person's Name: John Doe \n",
      "Person's Age: 30 \n"
     ]
    }
   ],
   "source": [
    "# Creating an S3 object\n",
    "person <- list(name = \"John Doe\", age = 30)\n",
    "\n",
    "# Assigning a class to the object\n",
    "class(person) <- \"Person\"\n",
    "\n",
    "# Defining a print method for the \"Person\" class\n",
    "print.Person <- function(x) {\n",
    "  cat(\"Person's Name:\", x$name, \"\\n\")\n",
    "  cat(\"Person's Age:\", x$age, \"\\n\")\n",
    "}\n",
    "\n",
    "# Now, when you print the object, it will use the custom print method\n",
    "print(person)\n"
   ]
  },
  {
   "cell_type": "markdown",
   "metadata": {},
   "source": [
    "**2. S4 Classes**\n",
    "\n",
    "- **S4** is a more ***formal and robust OOP system*** in R. Unlike S3, S4 requires explicit definitions of classes and methods, making it stricter and more suitable for large, complex programs.\n",
    "\n",
    "- **Key Concepts**:\n",
    "    - **Formal class definitions**: You must define the structure of the class and its attributes explicitly.\n",
    "    - **Formal method definitions**: Methods must be explicitly defined for each class.\n",
    "    - **Slot-based system**: S4 objects store data in slots, which are like fields in other OOP languages.\n",
    "    - **Type checking**: S4 provides better type-checking and error reporting compared to S3.\n",
    "\n",
    "Example of S4 Class Definition"
   ]
  },
  {
   "cell_type": "code",
   "execution_count": 2,
   "metadata": {
    "vscode": {
     "languageId": "r"
    }
   },
   "outputs": [
    {
     "name": "stderr",
     "output_type": "stream",
     "text": [
      "ERROR while rich displaying an object: Error in x$name: $ operator not defined for this S4 class\n",
      "\n",
      "Traceback:\n",
      "1. tryCatch(withCallingHandlers({\n",
      " .     if (!mime %in% names(repr::mime2repr)) \n",
      " .         stop(\"No repr_* for mimetype \", mime, \" in repr::mime2repr\")\n",
      " .     rpr <- repr::mime2repr[[mime]](obj)\n",
      " .     if (is.null(rpr)) \n",
      " .         return(NULL)\n",
      " .     prepare_content(is.raw(rpr), rpr)\n",
      " . }, error = error_handler), error = outer_handler)\n",
      "2. tryCatchList(expr, classes, parentenv, handlers)\n",
      "3. tryCatchOne(expr, names, parentenv, handlers[[1L]])\n",
      "4. doTryCatch(return(expr), name, parentenv, handler)\n",
      "5. withCallingHandlers({\n",
      " .     if (!mime %in% names(repr::mime2repr)) \n",
      " .         stop(\"No repr_* for mimetype \", mime, \" in repr::mime2repr\")\n",
      " .     rpr <- repr::mime2repr[[mime]](obj)\n",
      " .     if (is.null(rpr)) \n",
      " .         return(NULL)\n",
      " .     prepare_content(is.raw(rpr), rpr)\n",
      " . }, error = error_handler)\n",
      "6. repr::mime2repr[[mime]](obj)\n",
      "7. repr_text.default(obj)\n",
      "8. paste(capture.output(print(obj)), collapse = \"\\n\")\n",
      "9. capture.output(print(obj))\n",
      "10. withVisible(...elt(i))\n",
      "11. print(obj)\n",
      "12. print.Person(obj)\n",
      "13. cat(\"Person's Name:\", x$name, \"\\n\")   # at line 9 of file <text>\n"
     ]
    }
   ],
   "source": [
    "# Define an S4 class \"Person\"\n",
    "setClass(\n",
    "  \"Person\",\n",
    "  slots = list(\n",
    "    name = \"character\",\n",
    "    age = \"numeric\"\n",
    "  )\n",
    ")\n",
    "\n",
    "# Create an instance of the S4 class\n",
    "john <- new(\"Person\", name = \"John Doe\", age = 30)\n",
    "\n",
    "# Define a method to display the Person object\n",
    "setMethod(\n",
    "  \"show\", \"Person\",\n",
    "  function(object) {\n",
    "    cat(\"Name:\", object@name, \"\\n\")\n",
    "    cat(\"Age:\", object@age, \"\\n\")\n",
    "  }\n",
    ")\n",
    "\n",
    "# Show the details of the object\n",
    "john\n"
   ]
  },
  {
   "cell_type": "code",
   "execution_count": 3,
   "metadata": {
    "vscode": {
     "languageId": "r"
    }
   },
   "outputs": [
    {
     "name": "stderr",
     "output_type": "stream",
     "text": [
      "ERROR while rich displaying an object: Error in x$name: $ operator not defined for this S4 class\n",
      "\n",
      "Traceback:\n",
      "1. tryCatch(withCallingHandlers({\n",
      " .     if (!mime %in% names(repr::mime2repr)) \n",
      " .         stop(\"No repr_* for mimetype \", mime, \" in repr::mime2repr\")\n",
      " .     rpr <- repr::mime2repr[[mime]](obj)\n",
      " .     if (is.null(rpr)) \n",
      " .         return(NULL)\n",
      " .     prepare_content(is.raw(rpr), rpr)\n",
      " . }, error = error_handler), error = outer_handler)\n",
      "2. tryCatchList(expr, classes, parentenv, handlers)\n",
      "3. tryCatchOne(expr, names, parentenv, handlers[[1L]])\n",
      "4. doTryCatch(return(expr), name, parentenv, handler)\n",
      "5. withCallingHandlers({\n",
      " .     if (!mime %in% names(repr::mime2repr)) \n",
      " .         stop(\"No repr_* for mimetype \", mime, \" in repr::mime2repr\")\n",
      " .     rpr <- repr::mime2repr[[mime]](obj)\n",
      " .     if (is.null(rpr)) \n",
      " .         return(NULL)\n",
      " .     prepare_content(is.raw(rpr), rpr)\n",
      " . }, error = error_handler)\n",
      "6. repr::mime2repr[[mime]](obj)\n",
      "7. repr_text.default(obj)\n",
      "8. paste(capture.output(print(obj)), collapse = \"\\n\")\n",
      "9. capture.output(print(obj))\n",
      "10. withVisible(...elt(i))\n",
      "11. print(obj)\n",
      "12. print.Person(obj)\n",
      "13. cat(\"Person's Name:\", x$name, \"\\n\")   # at line 9 of file <text>\n"
     ]
    }
   ],
   "source": [
    "# Define a new S4 class \"Employee\" that inherits from \"Person\"\n",
    "setClass(\n",
    "  \"Employee\",\n",
    "  slots = list(\n",
    "    job_title = \"character\"\n",
    "  ),\n",
    "  contains = \"Person\"  # Inherit from the \"Person\" class\n",
    ")\n",
    "\n",
    "# Create an instance of the Employee class\n",
    "jane <- new(\"Employee\", name = \"Jane Doe\", age = 28, job_title = \"Data Analyst\")\n",
    "\n",
    "# Define a method to display the Employee object\n",
    "setMethod(\n",
    "  \"show\", \"Employee\",\n",
    "  function(object) {\n",
    "    cat(\"Employee Name:\", object@name, \"\\n\")\n",
    "    cat(\"Employee Age:\", object@age, \"\\n\")\n",
    "    cat(\"Job Title:\", object@job_title, \"\\n\")\n",
    "  }\n",
    ")\n",
    "\n",
    "# Show the details of the employee object\n",
    "jane\n"
   ]
  },
  {
   "cell_type": "markdown",
   "metadata": {
    "vscode": {
     "languageId": "r"
    }
   },
   "source": [
    "**Method Dispatch in S4**:\n",
    "\n",
    "In S4, you can create generic functions and define methods for specific classes. For example:"
   ]
  },
  {
   "cell_type": "code",
   "execution_count": 4,
   "metadata": {
    "vscode": {
     "languageId": "r"
    }
   },
   "outputs": [
    {
     "data": {
      "text/html": [
       "'getAge'"
      ],
      "text/latex": [
       "'getAge'"
      ],
      "text/markdown": [
       "'getAge'"
      ],
      "text/plain": [
       "[1] \"getAge\""
      ]
     },
     "metadata": {},
     "output_type": "display_data"
    },
    {
     "data": {
      "text/html": [
       "30"
      ],
      "text/latex": [
       "30"
      ],
      "text/markdown": [
       "30"
      ],
      "text/plain": [
       "[1] 30"
      ]
     },
     "metadata": {},
     "output_type": "display_data"
    }
   ],
   "source": [
    "# Defining a generic function\n",
    "setGeneric(\"getAge\", function(object) standardGeneric(\"getAge\"))\n",
    "\n",
    "# Defining a method for the \"Person\" class\n",
    "setMethod(\"getAge\", \"Person\", function(object) {\n",
    "  return(object@age)\n",
    "})\n",
    "\n",
    "# Calling the method for an S4 object\n",
    "getAge(john)  # Outputs 30\n"
   ]
  },
  {
   "cell_type": "markdown",
   "metadata": {},
   "source": [
    "# Inheritance and Methods"
   ]
  },
  {
   "cell_type": "code",
   "execution_count": 5,
   "metadata": {
    "vscode": {
     "languageId": "r"
    }
   },
   "outputs": [
    {
     "name": "stdout",
     "output_type": "stream",
     "text": [
      "Employee Name: Jane Doe \n",
      "Employee Age: 28 \n",
      "Job Title: Data Analyst \n"
     ]
    }
   ],
   "source": [
    "# Defining another S3 class called \"Employee\" that inherits from \"Person\"\n",
    "employee <- list(name = \"Jane Doe\", age = 28, job_title = \"Data Analyst\")\n",
    "class(employee) <- c(\"Employee\", \"Person\")  # Inherits both classes\n",
    "\n",
    "# Defining a print method for the Employee class\n",
    "print.Employee <- function(x) {\n",
    "  cat(\"Employee Name:\", x$name, \"\\n\")\n",
    "  cat(\"Employee Age:\", x$age, \"\\n\")\n",
    "  cat(\"Job Title:\", x$job_title, \"\\n\")\n",
    "}\n",
    "\n",
    "# Now, printing the employee object will call the \"print.Employee\" method\n",
    "print(employee)"
   ]
  },
  {
   "cell_type": "markdown",
   "metadata": {},
   "source": [
    "In the example above, the employee object inherits from both the Employee and Person classes. The correct print method is selected based on the first class in the class vector."
   ]
  },
  {
   "cell_type": "markdown",
   "metadata": {
    "vscode": {
     "languageId": "r"
    }
   },
   "source": [
    "**When to Use S3 vs S4**:\n",
    "- S3 is typically preferred for smaller, simpler programs where flexibility and speed are important.\n",
    "- S4 is used in larger, more complex systems where formal class definitions, type checking, and robustness are critical, such as in bioinformatics or statistical software packages.\n",
    "- In conclusion, both S3 and S4 have their strengths and serve different purposes in R. S3 offers simplicity and speed, while S4 provides formal structure and greater safety, especially in more complex applications"
   ]
  },
  {
   "cell_type": "markdown",
   "metadata": {
    "vscode": {
     "languageId": "r"
    }
   },
   "source": [
    "# Scoping Rules\n",
    "In **R**, scoping rules determine how the language finds and uses the value of variables. Understanding scoping is crucial because it controls the visibility and accessibility of variables within different parts of the code. **R** primarily uses **lexical scoping** (sometimes called ***static scoping***) with elements of dynamic scoping.\n",
    "\n",
    "But before we get into scoping first understand the difference between **Global and Local Variables**.\\\n",
    "**Global variables** are defined outside any function and can be accessed from anywhere in the script.\\\n",
    "**Local variables** are defined inside a function and can only be accessed from within that function.\n",
    "\n",
    "**1. Lexical Scoping**\n",
    "- Lexical scoping means that the value of a variable is determined by the environment in which the function was created, not necessarily where the function is called. The environment refers to the collection of objects (variables, functions, etc.) that are defined and accessible within a specific context.\n",
    "\n",
    "***Example of Lexical Scoping***:\n"
   ]
  },
  {
   "cell_type": "code",
   "execution_count": 6,
   "metadata": {
    "vscode": {
     "languageId": "r"
    }
   },
   "outputs": [
    {
     "data": {
      "text/html": [
       "5"
      ],
      "text/latex": [
       "5"
      ],
      "text/markdown": [
       "5"
      ],
      "text/plain": [
       "[1] 5"
      ]
     },
     "metadata": {},
     "output_type": "display_data"
    },
    {
     "data": {
      "text/html": [
       "10"
      ],
      "text/latex": [
       "10"
      ],
      "text/markdown": [
       "10"
      ],
      "text/plain": [
       "[1] 10"
      ]
     },
     "metadata": {},
     "output_type": "display_data"
    }
   ],
   "source": [
    "x <- 10  # Global variable\n",
    "\n",
    "my_function <- function() {\n",
    "  x <- 5  # Local variable inside the function\n",
    "  return(x)\n",
    "}\n",
    "\n",
    "my_function()  # Output: 5\n",
    "x  # Output: 10 (the global variable remains unchanged)\n"
   ]
  },
  {
   "cell_type": "markdown",
   "metadata": {},
   "source": [
    "In the above example, when ***my_function()*** is called, it uses the value of ***x*** defined inside the ***function (5)***, not the global ***x (10)***. This demonstrates local scoping."
   ]
  },
  {
   "cell_type": "code",
   "execution_count": 7,
   "metadata": {
    "vscode": {
     "languageId": "r"
    }
   },
   "outputs": [
    {
     "data": {
      "text/html": [
       "15"
      ],
      "text/latex": [
       "15"
      ],
      "text/markdown": [
       "15"
      ],
      "text/plain": [
       "[1] 15"
      ]
     },
     "metadata": {},
     "output_type": "display_data"
    },
    {
     "data": {
      "text/html": [
       "20"
      ],
      "text/latex": [
       "20"
      ],
      "text/markdown": [
       "20"
      ],
      "text/plain": [
       "[1] 20"
      ]
     },
     "metadata": {},
     "output_type": "display_data"
    }
   ],
   "source": [
    "y <- 20  # Global variable\n",
    "\n",
    "outer_function <- function() {\n",
    "  y <- 15  # Local to outer_function\n",
    "  \n",
    "  inner_function <- function() {\n",
    "    return(y)  # Looks for y in outer_function\n",
    "  }\n",
    "  \n",
    "  return(inner_function())\n",
    "}\n",
    "\n",
    "outer_function()  # Output: 15\n",
    "y  # Output: 20\n"
   ]
  },
  {
   "cell_type": "markdown",
   "metadata": {
    "vscode": {
     "languageId": "r"
    }
   },
   "source": [
    "Here in the above example, ***inner_function()*** returns the value of ***y*** from ***outer_function()***, not the ***global y***, because of ***lexical scoping***."
   ]
  },
  {
   "cell_type": "markdown",
   "metadata": {},
   "source": [
    "**2. Dynamic Scoping**\n",
    "\n",
    "In dynamic scoping, a function uses the value of a variable based on the environment from which it is called, not where it was defined. R mainly uses lexical scoping, but elements of dynamic scoping are used when handling environments like the global environment or certain error-handling situations.\n",
    "\n",
    "You can use the ***parent.frame()*** function to access dynamic scoping explicitly."
   ]
  },
  {
   "cell_type": "markdown",
   "metadata": {},
   "source": [
    "**3. Search Path and Environments**\n",
    "\n",
    "**R** has a hierarchy of environments that it uses to search for variables. When you reference a variable, R looks for it in the following order:\n",
    "- The local environment (within the current function).\n",
    "- The enclosing environment (the environment where the function was defined).\n",
    "- The global environment (the user's workspace).\n",
    "- The base package and other attached packages.\n",
    "- The empty environment (indicating no more environments to search).\n",
    "\n",
    "***Example of the Search Path***"
   ]
  },
  {
   "cell_type": "code",
   "execution_count": 8,
   "metadata": {
    "vscode": {
     "languageId": "r"
    }
   },
   "outputs": [
    {
     "data": {
      "text/html": [
       "100"
      ],
      "text/latex": [
       "100"
      ],
      "text/markdown": [
       "100"
      ],
      "text/plain": [
       "[1] 100"
      ]
     },
     "metadata": {},
     "output_type": "display_data"
    }
   ],
   "source": [
    "z <- 100  # Global variable\n",
    "\n",
    "search_variable <- function() {\n",
    "  return(z)\n",
    "}\n",
    "\n",
    "search_variable()  # Output: 100 (R looks in the global environment for z)\n"
   ]
  },
  {
   "cell_type": "markdown",
   "metadata": {
    "vscode": {
     "languageId": "r"
    }
   },
   "source": [
    "# String Manipulation\n",
    "\n",
    "**String manipulation in R** refers to working with text data (strings) using various functions and techniques. Since R is often used for data analysis, it's essential to clean, format, and extract relevant information from strings. R provides several built-in functions and libraries for string manipulation, primarily through the base package and the stringr package from the tidyverse.\n",
    "\n",
    "Here are common string manipulation tasks in **R**:\n",
    "\n"
   ]
  },
  {
   "cell_type": "markdown",
   "metadata": {
    "vscode": {
     "languageId": "r"
    }
   },
   "source": [
    "1. Combining Strings\n",
    "- ***paste() and paste0()*** are used to concatenate strings.\\\n",
    "The difference between the two is that ***paste()*** adds a space by default, while ***paste0()*** does not."
   ]
  },
  {
   "cell_type": "code",
   "execution_count": 9,
   "metadata": {
    "vscode": {
     "languageId": "r"
    }
   },
   "outputs": [
    {
     "data": {
      "text/html": [
       "'Hello Programmer'"
      ],
      "text/latex": [
       "'Hello Programmer'"
      ],
      "text/markdown": [
       "'Hello Programmer'"
      ],
      "text/plain": [
       "[1] \"Hello Programmer\""
      ]
     },
     "metadata": {},
     "output_type": "display_data"
    },
    {
     "data": {
      "text/html": [
       "'HelloProgrammer'"
      ],
      "text/latex": [
       "'HelloProgrammer'"
      ],
      "text/markdown": [
       "'HelloProgrammer'"
      ],
      "text/plain": [
       "[1] \"HelloProgrammer\""
      ]
     },
     "metadata": {},
     "output_type": "display_data"
    }
   ],
   "source": [
    "str1 <- \"Hello\"\n",
    "str2 <- \"Programmer\"\n",
    "paste(str1, str2)    # Output: \"Hello Programmer\"\n",
    "paste0(str1, str2)   # Output: \"HelloProgrammer\"\n"
   ]
  },
  {
   "cell_type": "markdown",
   "metadata": {},
   "source": [
    "You can also define a custom separator using the ***sep*** argument in ***paste()***."
   ]
  },
  {
   "cell_type": "code",
   "execution_count": 10,
   "metadata": {
    "vscode": {
     "languageId": "r"
    }
   },
   "outputs": [
    {
     "data": {
      "text/html": [
       "'Hello, Programmer'"
      ],
      "text/latex": [
       "'Hello, Programmer'"
      ],
      "text/markdown": [
       "'Hello, Programmer'"
      ],
      "text/plain": [
       "[1] \"Hello, Programmer\""
      ]
     },
     "metadata": {},
     "output_type": "display_data"
    }
   ],
   "source": [
    "paste(str1, str2, sep = \", \")  # Output: \"Hello, Programmer\""
   ]
  },
  {
   "cell_type": "markdown",
   "metadata": {},
   "source": [
    "**2. String Length**\n",
    "- ***nchar()*** returns the number of characters in a string."
   ]
  },
  {
   "cell_type": "code",
   "execution_count": 11,
   "metadata": {
    "vscode": {
     "languageId": "r"
    }
   },
   "outputs": [
    {
     "data": {
      "text/html": [
       "12"
      ],
      "text/latex": [
       "12"
      ],
      "text/markdown": [
       "12"
      ],
      "text/plain": [
       "[1] 12"
      ]
     },
     "metadata": {},
     "output_type": "display_data"
    }
   ],
   "source": [
    "nchar(\"Data Science\")  # Output: 12"
   ]
  },
  {
   "cell_type": "markdown",
   "metadata": {},
   "source": [
    "**3. Substrings**\n",
    "- ***substr()*** extracts parts of a string.\n",
    "- ***substring()*** is similar but allows more flexible indexing."
   ]
  },
  {
   "cell_type": "code",
   "execution_count": 12,
   "metadata": {
    "vscode": {
     "languageId": "r"
    }
   },
   "outputs": [
    {
     "data": {
      "text/html": [
       "'Data'"
      ],
      "text/latex": [
       "'Data'"
      ],
      "text/markdown": [
       "'Data'"
      ],
      "text/plain": [
       "[1] \"Data\""
      ]
     },
     "metadata": {},
     "output_type": "display_data"
    },
    {
     "data": {
      "text/html": [
       "'Science'"
      ],
      "text/latex": [
       "'Science'"
      ],
      "text/markdown": [
       "'Science'"
      ],
      "text/plain": [
       "[1] \"Science\""
      ]
     },
     "metadata": {},
     "output_type": "display_data"
    }
   ],
   "source": [
    "my_string <- \"Data Science\"\n",
    "substr(my_string, 1, 4)   # Output: \"Data\"\n",
    "substring(my_string, 6)   # Output: \"Science\" (starts from the 6th character)\n"
   ]
  },
  {
   "cell_type": "markdown",
   "metadata": {},
   "source": [
    "**4. Changing Case**\n",
    "- ***toupper()*** converts a string to uppercase.\n",
    "- ***tolower()*** converts a string to lowercase."
   ]
  },
  {
   "cell_type": "code",
   "execution_count": 13,
   "metadata": {
    "vscode": {
     "languageId": "r"
    }
   },
   "outputs": [
    {
     "data": {
      "text/html": [
       "'DATA'"
      ],
      "text/latex": [
       "'DATA'"
      ],
      "text/markdown": [
       "'DATA'"
      ],
      "text/plain": [
       "[1] \"DATA\""
      ]
     },
     "metadata": {},
     "output_type": "display_data"
    },
    {
     "data": {
      "text/html": [
       "'science'"
      ],
      "text/latex": [
       "'science'"
      ],
      "text/markdown": [
       "'science'"
      ],
      "text/plain": [
       "[1] \"science\""
      ]
     },
     "metadata": {},
     "output_type": "display_data"
    }
   ],
   "source": [
    "toupper(\"Data\")   # Output: \"DATA\"\n",
    "tolower(\"Science\")  # Output: \"science\""
   ]
  },
  {
   "cell_type": "markdown",
   "metadata": {},
   "source": [
    "**5. Trimming Whitespace**\n",
    "- ***trimws()*** removes leading and trailing spaces from a string.\n"
   ]
  },
  {
   "cell_type": "code",
   "execution_count": 14,
   "metadata": {
    "vscode": {
     "languageId": "r"
    }
   },
   "outputs": [
    {
     "data": {
      "text/html": [
       "'Data Science'"
      ],
      "text/latex": [
       "'Data Science'"
      ],
      "text/markdown": [
       "'Data Science'"
      ],
      "text/plain": [
       "[1] \"Data Science\""
      ]
     },
     "metadata": {},
     "output_type": "display_data"
    }
   ],
   "source": [
    "trimws(\"   Data Science   \")  # Output: \"Data Science\""
   ]
  },
  {
   "cell_type": "markdown",
   "metadata": {
    "vscode": {
     "languageId": "r"
    }
   },
   "source": [
    "**6. Pattern Matching and Substitution**\n",
    "- **Searching for Patterns**\n",
    "    - ***grep()*** finds the positions of strings that match a pattern.\n",
    "    - ***grepl()*** returns a logical vector indicating whether the pattern is found.\n",
    "\n",
    "- **Replacing Patterns**\n",
    "    - **gsub()** replaces all occurrences of a pattern.\n",
    "    - **sub()** replaces the first occurrence of a pattern.\n",
    "\n"
   ]
  },
  {
   "cell_type": "code",
   "execution_count": 15,
   "metadata": {
    "vscode": {
     "languageId": "r"
    }
   },
   "outputs": [
    {
     "data": {
      "text/html": [
       "<style>\n",
       ".list-inline {list-style: none; margin:0; padding: 0}\n",
       ".list-inline>li {display: inline-block}\n",
       ".list-inline>li:not(:last-child)::after {content: \"\\00b7\"; padding: 0 .5ex}\n",
       "</style>\n",
       "<ol class=list-inline><li>1</li><li>4</li></ol>\n"
      ],
      "text/latex": [
       "\\begin{enumerate*}\n",
       "\\item 1\n",
       "\\item 4\n",
       "\\end{enumerate*}\n"
      ],
      "text/markdown": [
       "1. 1\n",
       "2. 4\n",
       "\n",
       "\n"
      ],
      "text/plain": [
       "[1] 1 4"
      ]
     },
     "metadata": {},
     "output_type": "display_data"
    },
    {
     "data": {
      "text/html": [
       "<style>\n",
       ".list-inline {list-style: none; margin:0; padding: 0}\n",
       ".list-inline>li {display: inline-block}\n",
       ".list-inline>li:not(:last-child)::after {content: \"\\00b7\"; padding: 0 .5ex}\n",
       "</style>\n",
       "<ol class=list-inline><li>TRUE</li><li>FALSE</li><li>FALSE</li><li>TRUE</li></ol>\n"
      ],
      "text/latex": [
       "\\begin{enumerate*}\n",
       "\\item TRUE\n",
       "\\item FALSE\n",
       "\\item FALSE\n",
       "\\item TRUE\n",
       "\\end{enumerate*}\n"
      ],
      "text/markdown": [
       "1. TRUE\n",
       "2. FALSE\n",
       "3. FALSE\n",
       "4. TRUE\n",
       "\n",
       "\n"
      ],
      "text/plain": [
       "[1]  TRUE FALSE FALSE  TRUE"
      ]
     },
     "metadata": {},
     "output_type": "display_data"
    }
   ],
   "source": [
    "my_strings <- c(\"apple\", \"banana\", \"pear\", \"pineapple\")\n",
    "grep(\"apple\", my_strings)  # Output: 1 4 (positions where \"apple\" is found)\n",
    "grepl(\"apple\", my_strings)  # Output: TRUE FALSE FALSE TRUE\n"
   ]
  },
  {
   "cell_type": "code",
   "execution_count": 16,
   "metadata": {
    "vscode": {
     "languageId": "r"
    }
   },
   "outputs": [
    {
     "data": {
      "text/html": [
       "'I like oranges and oranges are tasty'"
      ],
      "text/latex": [
       "'I like oranges and oranges are tasty'"
      ],
      "text/markdown": [
       "'I like oranges and oranges are tasty'"
      ],
      "text/plain": [
       "[1] \"I like oranges and oranges are tasty\""
      ]
     },
     "metadata": {},
     "output_type": "display_data"
    },
    {
     "data": {
      "text/html": [
       "'I like oranges and apples are tasty'"
      ],
      "text/latex": [
       "'I like oranges and apples are tasty'"
      ],
      "text/markdown": [
       "'I like oranges and apples are tasty'"
      ],
      "text/plain": [
       "[1] \"I like oranges and apples are tasty\""
      ]
     },
     "metadata": {},
     "output_type": "display_data"
    }
   ],
   "source": [
    "text <- \"I like apples and apples are tasty\"\n",
    "gsub(\"apples\", \"oranges\", text)  # Output: \"I like oranges and oranges are tasty\".\n",
    "\n",
    "sub(\"apples\", \"oranges\", text)   # Output: \"I like oranges and apples are tasty\"\n"
   ]
  },
  {
   "cell_type": "markdown",
   "metadata": {
    "vscode": {
     "languageId": "r"
    }
   },
   "source": [
    "**7. Advanced String Manipulation with stringr**\n",
    "- The stringr package provides a consistent and easy-to-use set of functions for string manipulation. It is part of the tidyverse and works well with data frames and other tidy data structures.\n",
    "- To use ***stringr***, you need to install and load it. More on that when we are learning libraries."
   ]
  },
  {
   "cell_type": "markdown",
   "metadata": {
    "vscode": {
     "languageId": "r"
    }
   },
   "source": [
    "# Error Handling (tryCatch)\n",
    "**Error handling in R** is crucial when writing robust code that gracefully handles unexpected situations, such as missing data or incorrect input. The ***tryCatch() function*** in **R** provides a structured way to handle errors, warnings, and even \"finally\" blocks, allowing you to write safer and more reliable programs.\\\n",
    "The ***tryCatch()*** function works similarly to try-except blocks in other languages. It evaluates an expression, and depending on the result (whether it is an error, warning, or normal execution), it triggers a corresponding handler.\n",
    "\n",
    "The structure of ***tryCatch()*** looks like this:\n",
    "```{r}\n",
    "tryCatch(\n",
    "  {\n",
    "    # Code that may cause an error\n",
    "  },\n",
    "  error = function(e) {\n",
    "    # Handle error\n",
    "  },\n",
    "  warning = function(w) {\n",
    "    # Handle warning\n",
    "  },\n",
    "  finally = {\n",
    "    # Code that will always run, regardless of success or failure\n",
    "  }\n",
    ")\n",
    "\n",
    "```"
   ]
  },
  {
   "cell_type": "markdown",
   "metadata": {
    "vscode": {
     "languageId": "r"
    }
   },
   "source": [
    "**Key Components of tryCatch()**\n",
    "- **Expression Block**: The first block of code contains the main logic you want to run. If an error or warning occurs here, it is passed to the respective handler.\n",
    "- **Error Handler**: The ***error = function(e)*** block catches and handles errors. The error object e contains information about the error.\n",
    "- **Warning Handler**: The ***warning = function(w)*** block is for catching and handling warnings.\n",
    "- **Finally Block**: The finally block contains code that will execute regardless of whether an error or warning occurred. It is similar to the finally clause in other languages.\n"
   ]
  },
  {
   "cell_type": "code",
   "execution_count": 17,
   "metadata": {
    "vscode": {
     "languageId": "r"
    }
   },
   "outputs": [
    {
     "name": "stdout",
     "output_type": "stream",
     "text": [
      "[1] Inf\n"
     ]
    }
   ],
   "source": [
    "# Example \n",
    "result <- tryCatch(\n",
    "  {\n",
    "    # Code that may throw an error\n",
    "    x <- 10 / 0   # Division by zero will cause an error\n",
    "  },\n",
    "  error = function(e) {\n",
    "    # Handle the error\n",
    "    print(\"An error occurred!\")\n",
    "    print(e)\n",
    "    return(NA)   # Return a default value\n",
    "  }\n",
    ")\n",
    "print(result)\n"
   ]
  },
  {
   "cell_type": "code",
   "execution_count": 18,
   "metadata": {
    "vscode": {
     "languageId": "r"
    }
   },
   "outputs": [
    {
     "name": "stdout",
     "output_type": "stream",
     "text": [
      "[1] \"A warning occurred!\"\n",
      "<simpleWarning in log(-1): NaNs produced>\n",
      "[1] NA\n"
     ]
    }
   ],
   "source": [
    "# You can also handle warnings similarly. \n",
    "# Here's an example that triggers a warning \n",
    "# for using log() on a negative number.\n",
    "result <- tryCatch(\n",
    "  {\n",
    "    # Code that may produce a warning\n",
    "    log(-1)\n",
    "  },\n",
    "  warning = function(w) {\n",
    "    # Handle the warning\n",
    "    print(\"A warning occurred!\")\n",
    "    print(w)\n",
    "    return(NA)  # Return a default value\n",
    "  }\n",
    ")\n",
    "\n",
    "print(result)\n"
   ]
  },
  {
   "cell_type": "markdown",
   "metadata": {},
   "source": [
    "**NB**: Using ***try()*** for Simple Error Handling:\n",
    "- While ***tryCatch()*** is powerful, for simple error handling where you just want to skip code execution on errors, you can use the simpler ***try() function***."
   ]
  },
  {
   "cell_type": "code",
   "execution_count": 19,
   "metadata": {
    "vscode": {
     "languageId": "r"
    }
   },
   "outputs": [
    {
     "name": "stdout",
     "output_type": "stream",
     "text": [
      "Error in log(\"a\") : non-numeric argument to mathematical function\n",
      "[1] \"An error occurred!\"\n"
     ]
    }
   ],
   "source": [
    "result <- try(log(\"a\"))  # Error: \"a\" is not a numeric value\n",
    "if (inherits(result, \"try-error\")) {\n",
    "  print(\"An error occurred!\")\n",
    "}\n"
   ]
  },
  {
   "cell_type": "markdown",
   "metadata": {
    "vscode": {
     "languageId": "r"
    }
   },
   "source": [
    "# Iterators and Apply Functions\n"
   ]
  },
  {
   "cell_type": "markdown",
   "metadata": {},
   "source": [
    "## Iterators\n",
    "**In R**, **iterators** allow you to loop over a collection of elements, such as vectors, lists, or other data structures. While **R** is vectorized (which means many operations can be done without loops), iterators like **for loops** are commonly used for more complex tasks. **R** also provides higher-level functions like the ***apply()*** family, which are more efficient than explicit loops in most cases.\n",
    "\n",
    "For Loop Example:"
   ]
  },
  {
   "cell_type": "code",
   "execution_count": 20,
   "metadata": {
    "vscode": {
     "languageId": "r"
    }
   },
   "outputs": [
    {
     "name": "stdout",
     "output_type": "stream",
     "text": [
      "[1] 1\n",
      "[1] 4\n",
      "[1] 9\n",
      "[1] 16\n",
      "[1] 25\n"
     ]
    }
   ],
   "source": [
    "numbers <- c(1, 2, 3, 4, 5)\n",
    "\n",
    "for (num in numbers) {\n",
    "  print(num^2)\n",
    "}\n"
   ]
  },
  {
   "cell_type": "markdown",
   "metadata": {},
   "source": [
    "## Apply Family of Functions in R\n",
    "The apply family of functions ***apply(), lapply(), sapply(), tapply(), mapply()***, and ***vapply()*** provides an alternative to loops for applying a function to elements of a data structure. Each function is specialized for specific types of data structures or output requirements."
   ]
  },
  {
   "cell_type": "markdown",
   "metadata": {
    "vscode": {
     "languageId": "r"
    }
   },
   "source": [
    "1. **Apply()** : Used for arrays and matrices\n",
    "    - ***apply(X, MARGIN, FUN)***\n",
    "    - X: An array or matrix\n",
    "    - MARGIN: 1 for rows, 2 for columns\n",
    "    - FUN: The function to apply\n"
   ]
  },
  {
   "cell_type": "code",
   "execution_count": 21,
   "metadata": {
    "vscode": {
     "languageId": "r"
    }
   },
   "outputs": [
    {
     "name": "stdout",
     "output_type": "stream",
     "text": [
      "     [,1] [,2] [,3]\n",
      "[1,]    1    4    7\n",
      "[2,]    2    5    8\n",
      "[3,]    3    6    9\n"
     ]
    },
    {
     "data": {
      "text/html": [
       "<style>\n",
       ".list-inline {list-style: none; margin:0; padding: 0}\n",
       ".list-inline>li {display: inline-block}\n",
       ".list-inline>li:not(:last-child)::after {content: \"\\00b7\"; padding: 0 .5ex}\n",
       "</style>\n",
       "<ol class=list-inline><li>12</li><li>15</li><li>18</li></ol>\n"
      ],
      "text/latex": [
       "\\begin{enumerate*}\n",
       "\\item 12\n",
       "\\item 15\n",
       "\\item 18\n",
       "\\end{enumerate*}\n"
      ],
      "text/markdown": [
       "1. 12\n",
       "2. 15\n",
       "3. 18\n",
       "\n",
       "\n"
      ],
      "text/plain": [
       "[1] 12 15 18"
      ]
     },
     "metadata": {},
     "output_type": "display_data"
    },
    {
     "data": {
      "text/html": [
       "<style>\n",
       ".list-inline {list-style: none; margin:0; padding: 0}\n",
       ".list-inline>li {display: inline-block}\n",
       ".list-inline>li:not(:last-child)::after {content: \"\\00b7\"; padding: 0 .5ex}\n",
       "</style>\n",
       "<ol class=list-inline><li>6</li><li>15</li><li>24</li></ol>\n"
      ],
      "text/latex": [
       "\\begin{enumerate*}\n",
       "\\item 6\n",
       "\\item 15\n",
       "\\item 24\n",
       "\\end{enumerate*}\n"
      ],
      "text/markdown": [
       "1. 6\n",
       "2. 15\n",
       "3. 24\n",
       "\n",
       "\n"
      ],
      "text/plain": [
       "[1]  6 15 24"
      ]
     },
     "metadata": {},
     "output_type": "display_data"
    }
   ],
   "source": [
    "# Example: Apply sum to rows and columns of a matrix\n",
    "mat <- matrix(1:9, nrow = 3)\n",
    "print(mat)\n",
    "\n",
    "# Sum over rows (MARGIN = 1)\n",
    "apply(mat, 1, sum)\n",
    "\n",
    "# Sum over columns (MARGIN = 2)\n",
    "apply(mat, 2, sum)\n"
   ]
  },
  {
   "cell_type": "markdown",
   "metadata": {},
   "source": [
    "2. **lapply()**: Used for lists and returns a list\n",
    "    - ***lapply(X, FUN)***\n",
    "    - X: A list or vector\n",
    "    - FUN: The function to apply to each element"
   ]
  },
  {
   "cell_type": "code",
   "execution_count": 22,
   "metadata": {
    "vscode": {
     "languageId": "r"
    }
   },
   "outputs": [
    {
     "data": {
      "text/html": [
       "<ol>\n",
       "\t<li>1</li>\n",
       "\t<li>4</li>\n",
       "\t<li>9</li>\n",
       "\t<li>16</li>\n",
       "</ol>\n"
      ],
      "text/latex": [
       "\\begin{enumerate}\n",
       "\\item 1\n",
       "\\item 4\n",
       "\\item 9\n",
       "\\item 16\n",
       "\\end{enumerate}\n"
      ],
      "text/markdown": [
       "1. 1\n",
       "2. 4\n",
       "3. 9\n",
       "4. 16\n",
       "\n",
       "\n"
      ],
      "text/plain": [
       "[[1]]\n",
       "[1] 1\n",
       "\n",
       "[[2]]\n",
       "[1] 4\n",
       "\n",
       "[[3]]\n",
       "[1] 9\n",
       "\n",
       "[[4]]\n",
       "[1] 16\n"
      ]
     },
     "metadata": {},
     "output_type": "display_data"
    }
   ],
   "source": [
    "# Example: Use lapply to get the square of each number in a list\n",
    "num_list <- list(1, 2, 3, 4)\n",
    "lapply(num_list, function(x) x^2)\n"
   ]
  },
  {
   "cell_type": "markdown",
   "metadata": {},
   "source": [
    "3. **sapply()**: Simplified version of ***lapply()*** that attempts to return a vector or matrix\n",
    "    - ***sapply(X, FUN)***\n",
    "    - X: A list or vector\n",
    "    - FUN: The function to apply"
   ]
  },
  {
   "cell_type": "code",
   "execution_count": 23,
   "metadata": {
    "vscode": {
     "languageId": "r"
    }
   },
   "outputs": [
    {
     "data": {
      "text/html": [
       "<style>\n",
       ".list-inline {list-style: none; margin:0; padding: 0}\n",
       ".list-inline>li {display: inline-block}\n",
       ".list-inline>li:not(:last-child)::after {content: \"\\00b7\"; padding: 0 .5ex}\n",
       "</style>\n",
       "<ol class=list-inline><li>1</li><li>4</li><li>9</li><li>16</li></ol>\n"
      ],
      "text/latex": [
       "\\begin{enumerate*}\n",
       "\\item 1\n",
       "\\item 4\n",
       "\\item 9\n",
       "\\item 16\n",
       "\\end{enumerate*}\n"
      ],
      "text/markdown": [
       "1. 1\n",
       "2. 4\n",
       "3. 9\n",
       "4. 16\n",
       "\n",
       "\n"
      ],
      "text/plain": [
       "[1]  1  4  9 16"
      ]
     },
     "metadata": {},
     "output_type": "display_data"
    }
   ],
   "source": [
    "# Example: Same as lapply, but returns a vector\n",
    "sapply(num_list, function(x) x^2)\n"
   ]
  },
  {
   "cell_type": "markdown",
   "metadata": {},
   "source": [
    "4. **tapply()**: Used to apply a function to subsets of a vector, typically based on some grouping factor.\n",
    "    - ***tapply(X, INDEX, FUN)***\n",
    "    - X: A vector\n",
    "    - INDEX: A factor or list of factors\n",
    "    - FUN: The function to apply"
   ]
  },
  {
   "cell_type": "code",
   "execution_count": 24,
   "metadata": {
    "vscode": {
     "languageId": "r"
    }
   },
   "outputs": [
    {
     "data": {
      "text/html": [
       "<style>\n",
       ".dl-inline {width: auto; margin:0; padding: 0}\n",
       ".dl-inline>dt, .dl-inline>dd {float: none; width: auto; display: inline-block}\n",
       ".dl-inline>dt::after {content: \":\\0020\"; padding-right: .5ex}\n",
       ".dl-inline>dt:not(:first-of-type) {padding-left: .5ex}\n",
       "</style><dl class=dl-inline><dt>F</dt><dd>24.5</dd><dt>M</dt><dd>26.6666666666667</dd></dl>\n"
      ],
      "text/latex": [
       "\\begin{description*}\n",
       "\\item[F] 24.5\n",
       "\\item[M] 26.6666666666667\n",
       "\\end{description*}\n"
      ],
      "text/markdown": [
       "F\n",
       ":   24.5M\n",
       ":   26.6666666666667\n",
       "\n"
      ],
      "text/plain": [
       "       F        M \n",
       "24.50000 26.66667 "
      ]
     },
     "metadata": {},
     "output_type": "display_data"
    }
   ],
   "source": [
    "# Example: Grouped mean of a vector based on a factor\n",
    "ages <- c(22, 25, 24, 30, 28)\n",
    "gender <- factor(c(\"M\", \"F\", \"F\", \"M\", \"M\"))\n",
    "\n",
    "tapply(ages, gender, mean)  # Get mean age by gender\n"
   ]
  },
  {
   "cell_type": "markdown",
   "metadata": {
    "vscode": {
     "languageId": "r"
    }
   },
   "source": [
    "5. **mapply()**: Multivariate version of ***sapply()**. It can apply a function to multiple lists or vectors.\n",
    "    - ***mapply(FUN, ..., MoreArgs = NULL)***\n",
    "    - FUN: The function to apply\n",
    "    - ...: Vectors or lists to pass as arguments to FUN"
   ]
  },
  {
   "cell_type": "code",
   "execution_count": 25,
   "metadata": {
    "vscode": {
     "languageId": "r"
    }
   },
   "outputs": [
    {
     "data": {
      "text/html": [
       "<style>\n",
       ".list-inline {list-style: none; margin:0; padding: 0}\n",
       ".list-inline>li {display: inline-block}\n",
       ".list-inline>li:not(:last-child)::after {content: \"\\00b7\"; padding: 0 .5ex}\n",
       "</style>\n",
       "<ol class=list-inline><li>6</li><li>8</li><li>10</li><li>12</li></ol>\n"
      ],
      "text/latex": [
       "\\begin{enumerate*}\n",
       "\\item 6\n",
       "\\item 8\n",
       "\\item 10\n",
       "\\item 12\n",
       "\\end{enumerate*}\n"
      ],
      "text/markdown": [
       "1. 6\n",
       "2. 8\n",
       "3. 10\n",
       "4. 12\n",
       "\n",
       "\n"
      ],
      "text/plain": [
       "[1]  6  8 10 12"
      ]
     },
     "metadata": {},
     "output_type": "display_data"
    }
   ],
   "source": [
    "# Example: Use mapply to sum corresponding elements from two vectors\n",
    "mapply(sum, 1:4, 5:8)\n"
   ]
  },
  {
   "cell_type": "markdown",
   "metadata": {},
   "source": [
    "6. **vapply()**: Similar to ***sapply()***, but you explicitly specify the return type.\n",
    "    - ***vapply(X, FUN, FUN.VALUE)***\n",
    "    - X: A list or vector\n",
    "    - FUN: The function to apply\n",
    "    - FUN.VALUE: The type of return value (e.g., numeric(1), character(1))"
   ]
  },
  {
   "cell_type": "code",
   "execution_count": 26,
   "metadata": {
    "vscode": {
     "languageId": "r"
    }
   },
   "outputs": [
    {
     "data": {
      "text/html": [
       "<style>\n",
       ".list-inline {list-style: none; margin:0; padding: 0}\n",
       ".list-inline>li {display: inline-block}\n",
       ".list-inline>li:not(:last-child)::after {content: \"\\00b7\"; padding: 0 .5ex}\n",
       "</style>\n",
       "<ol class=list-inline><li>1</li><li>4</li><li>9</li><li>16</li></ol>\n"
      ],
      "text/latex": [
       "\\begin{enumerate*}\n",
       "\\item 1\n",
       "\\item 4\n",
       "\\item 9\n",
       "\\item 16\n",
       "\\end{enumerate*}\n"
      ],
      "text/markdown": [
       "1. 1\n",
       "2. 4\n",
       "3. 9\n",
       "4. 16\n",
       "\n",
       "\n"
      ],
      "text/plain": [
       "[1]  1  4  9 16"
      ]
     },
     "metadata": {},
     "output_type": "display_data"
    }
   ],
   "source": [
    "# Example: Ensure a numeric output for each element\n",
    "vapply(num_list, function(x) x^2, numeric(1))\n"
   ]
  },
  {
   "cell_type": "markdown",
   "metadata": {},
   "source": [
    "**Comparing lapply(), sapply(), and vapply()**\n",
    "- **lapply()** always returns a list.\n",
    "- **sapply()** attempts to simplify the output (e.g., returns a vector or matrix if possible).\n",
    "- **vapply()** is stricter and requires you to define the output type, making it safer in some"
   ]
  },
  {
   "cell_type": "markdown",
   "metadata": {
    "vscode": {
     "languageId": "r"
    }
   },
   "source": [
    "# User Input\n",
    "**In R**, you can take user input using the ***readline() function***. This function allows you to prompt the user for input and stores it as a string. If you need the input to be in another type (e.g., numeric), you can convert it accordingly using functions like ***as.numeric(), as.integer()***, or other type conversion functions.\n",
    "\n",
    "**Basic Usage of readline()**\n",
    "- Here's how to take basic input from a user in **R**:"
   ]
  },
  {
   "cell_type": "code",
   "execution_count": 27,
   "metadata": {
    "vscode": {
     "languageId": "r"
    }
   },
   "outputs": [
    {
     "name": "stdout",
     "output_type": "stream",
     "text": [
      "Hello, James !\n"
     ]
    }
   ],
   "source": [
    "name <- readline(prompt = \"Enter your name: \")\n",
    "cat(\"Hello,\", name, \"!\\n\")\n"
   ]
  },
  {
   "cell_type": "markdown",
   "metadata": {},
   "source": [
    "**NB**: ***Readline()*** reads one line if you need to read multiple lines of text use **Readlines(func)** thats if its from a **file**"
   ]
  },
  {
   "cell_type": "markdown",
   "metadata": {
    "vscode": {
     "languageId": "r"
    }
   },
   "source": [
    "# Exercise\n",
    "--- \n",
    "***Good Luck***\n",
    "---"
   ]
  }
 ],
 "metadata": {
  "kernelspec": {
   "display_name": "R",
   "language": "R",
   "name": "ir"
  },
  "language_info": {
   "codemirror_mode": "r",
   "file_extension": ".r",
   "mimetype": "text/x-r-source",
   "name": "R",
   "pygments_lexer": "r",
   "version": "4.3.2"
  }
 },
 "nbformat": 4,
 "nbformat_minor": 2
}
