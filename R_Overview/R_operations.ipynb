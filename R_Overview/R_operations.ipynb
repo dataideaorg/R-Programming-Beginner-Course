{
 "cells": [
  {
   "cell_type": "markdown",
   "metadata": {
    "vscode": {
     "languageId": "r"
    }
   },
   "source": [
    "---\n",
    "**Author**: *Mugabi Trevor .L*\n",
    "\n",
    "**Published**: *2024-09-03*\n",
    "\n",
    "**Keywords**: *Assigment Operator, Logical operator, Arithmetic operator, Comparison operator*\n",
    "\n",
    "**Description**: *Operations in R*\n",
    "\n",
    "---"
   ]
  },
  {
   "cell_type": "markdown",
   "metadata": {
    "vscode": {
     "languageId": "r"
    }
   },
   "source": [
    "# Operations \n",
    "In programming, an operation refers to an action or computation that is performed on data. Operations are fundamental to programming and are used to manipulate data, perform calculations, and control the flow of a program. There are a number of operations in **R**, Below is a detailed explanation of operations \n"
   ]
  },
  {
   "cell_type": "markdown",
   "metadata": {
    "vscode": {
     "languageId": "r"
    }
   },
   "source": [
    "# Types of Operations\n",
    "The types of operations in **R** can be broken down into these below:\n",
    "  - Operators Introduction\n",
    "  - Arithmetic Operators\n",
    "  - Assignment Operators\n",
    "  - Comparison Operators\n",
    "  - Logical Operators\n",
    "  - Identity Operators\n",
    "  - Membership Operators\n",
    "\n",
    "Lets Explore one by one below to see exactly what each is all about and some examples along the way.\n",
    "\n",
    "\n",
    "\n"
   ]
  },
  {
   "cell_type": "code",
   "execution_count": null,
   "metadata": {
    "vscode": {
     "languageId": "r"
    }
   },
   "outputs": [],
   "source": [
    "  - Arithmetic Operators\n",
    "Arithmetic Operations:\n",
    "Addition (+): Combines two values (e.g., a + b).\n",
    "Subtraction (-): Subtracts one value from another (e.g., a - b).\n",
    "Multiplication (*): Multiplies two values (e.g., a * b).\n",
    "Division (/): Divides one value by another (e.g., a / b).\n",
    "Modulus (%): Returns the remainder of division (e.g., a % b).\n",
    "Exponentiation ():** Raises a value to the power of another (e.g., a ** b)."
   ]
  },
  {
   "cell_type": "code",
   "execution_count": null,
   "metadata": {
    "vscode": {
     "languageId": "r"
    }
   },
   "outputs": [],
   "source": [
    "  - Assignment Operators\n",
    "  Assignment Operations:\n",
    "\n",
    "Simple Assignment (=): Assigns a value to a variable (e.g., a = 5).\n",
    "Add and Assign (+=): Adds a value to a variable and assigns the result (e.g., a += 5).\n",
    "Subtract and Assign (-=): Subtracts a value from a variable and assigns the result (e.g., a -= 5).\n",
    "Multiply and Assign (*=): Multiplies a variable by a value and assigns the result (e.g., a *= 5).\n",
    "Divide and Assign (/=): Divides a variable by a value and assigns the result (e.g., a /= 5).\n",
    "Unary Operations:\n"
   ]
  },
  {
   "cell_type": "code",
   "execution_count": null,
   "metadata": {
    "vscode": {
     "languageId": "r"
    }
   },
   "outputs": [],
   "source": [
    "  - Comparison Operators\n",
    "Relational (Comparison) Operations:\n",
    "\n",
    "Equal to (==): Checks if two values are equal (e.g., a == b).\n",
    "Not equal to (!=): Checks if two values are not equal (e.g., a != b).\n",
    "Greater than (>): Checks if one value is greater than another (e.g., a > b).\n",
    "Less than (<): Checks if one value is less than another (e.g., a < b).\n",
    "Greater than or equal to (>=): Checks if one value is greater than or equal to another (e.g., a >= b).\n",
    "Less than or equal to (<=): Checks if one value is less than or equal to another (e.g., a <= b).\n"
   ]
  },
  {
   "cell_type": "code",
   "execution_count": null,
   "metadata": {
    "vscode": {
     "languageId": "r"
    }
   },
   "outputs": [],
   "source": [
    "  - Logical Operators\n",
    "  Logical Operations:\n",
    "\n",
    "AND (&& or and): Returns true if both conditions are true (e.g., a && b or a and b).\n",
    "OR (|| or or): Returns true if at least one condition is true (e.g., a || b or a or b).\n",
    "NOT (! or not): Returns true if the condition is false (e.g., !a or not a).\n"
   ]
  },
  {
   "cell_type": "code",
   "execution_count": null,
   "metadata": {
    "vscode": {
     "languageId": "r"
    }
   },
   "outputs": [],
   "source": [
    "  - Identity Operators\n",
    "In R, identity operators are used to test if two objects are the same object or have the same identity. This concept is different from equality operators, which test if two objects are equivalent in value. Identity operators are particularly useful for checking if two variables point to the same object in memory, which is more about object identity rather than object equality.\n",
    "\n",
    "Identity Operators in R\n",
    "1. identical() Function\n",
    "Purpose: Tests if two R objects are exactly the same, both in terms of their value and attributes. It checks for identity, meaning that the two objects are considered the same if they have the same type, structure, and content.\n",
    "\n",
    "Syntax:\n",
    "\n",
    "R\n",
    "Copy code\n",
    "identical(x, y)\n",
    "Example:\n",
    "\n",
    "R\n",
    "Copy code\n",
    "x <- c(1, 2, 3)\n",
    "y <- c(1, 2, 3)\n",
    "z <- x\n",
    "\n",
    "identical(x, y)  # FALSE, because x and y are not the same object in memory\n",
    "identical(x, z)  # TRUE, because x and z are the same object in memory\n",
    "2. is() Function\n",
    "Purpose: Checks if an object is of a specified class. It’s more about checking the identity of an object’s class rather than its value.\n",
    "\n",
    "Syntax:\n",
    "\n",
    "R\n",
    "Copy code\n",
    "is(x, class)\n",
    "Example:\n",
    "\n",
    "R\n",
    "Copy code\n",
    "x <- 5\n",
    "is(x, \"numeric\")  # TRUE, because x is a numeric object\n",
    "is(x, \"integer\")  # FALSE, because x is not an integer\n",
    "Distinction from Equality Operators\n",
    "Equality Operators (== and !=): Test if two objects are equal in value.\n",
    "\n",
    "R\n",
    "Copy code\n",
    "a <- c(1, 2, 3)\n",
    "b <- c(1, 2, 3)\n",
    "a == b  # TRUE for each element, so overall TRUE if comparing element-wise\n",
    "Identity Operators: Test if two objects are the same in terms of memory location or exact match of structure and content.\n",
    "\n",
    "R\n",
    "Copy code\n",
    "identical(a, b)  # TRUE, because a and b are exactly the same"
   ]
  },
  {
   "cell_type": "markdown",
   "metadata": {
    "vscode": {
     "languageId": "r"
    }
   },
   "source": [
    "  - Membership Operators\n",
    "In R, membership operators are used to test if elements belong to a specific set or structure. They are useful for checking whether values are present within vectors, lists, or other data structures. Here are the main membership operators in R:\n",
    "\n",
    "1. %in% Operator\n",
    "Purpose: Tests if elements of one vector are present in another vector. This operator is used to check membership within a set.\n",
    "\n",
    "Syntax:\n",
    "\n",
    "R\n",
    "Copy code\n",
    "element %in% set\n",
    "Example:\n",
    "\n",
    "R\n",
    "Copy code\n",
    "# Define vectors\n",
    "fruits <- c(\"apple\", \"banana\", \"cherry\")\n",
    "my_fruit <- \"banana\"\n",
    "my_fruits <- c(\"apple\", \"orange\")\n",
    "\n",
    "# Check if `my_fruit` is in `fruits`\n",
    "my_fruit %in% fruits  # TRUE\n",
    "\n",
    "# Check if elements in `my_fruits` are in `fruits`\n",
    "my_fruits %in% fruits  # TRUE FALSE\n",
    "Here, \"banana\" is in the fruits vector, so the result is TRUE. The vector my_fruits contains \"apple\" (which is in fruits) and \"orange\" (which is not), so the result is TRUE FALSE.\n",
    "\n",
    "2. match() Function\n",
    "Purpose: Finds the positions of the first matches of a vector of elements in another vector. It returns the index positions where matches are found, or NA if no match is found.\n",
    "\n",
    "Syntax:\n",
    "\n",
    "R\n",
    "Copy code\n",
    "match(x, table)\n",
    "Example:\n",
    "\n",
    "R\n",
    "Copy code\n",
    "# Define vectors\n",
    "fruits <- c(\"apple\", \"banana\", \"cherry\")\n",
    "my_fruits <- c(\"banana\", \"cherry\", \"orange\")\n",
    "\n",
    "# Find positions of `my_fruits` in `fruits`\n",
    "match(my_fruits, fruits)  # 2 3 NA\n",
    "Here, \"banana\" is the 2nd element in fruits, \"cherry\" is the 3rd, and \"orange\" is not found, so it returns NA.\n",
    "\n",
    "3. %in% vs. match()\n",
    "%in% Operator: Checks if elements are present in a set and returns a logical vector.\n",
    "match() Function: Provides the position of the matches or NA if no match is found.\n",
    "Summary\n",
    "%in% is used for membership testing, checking if elements are present in a set, and returns a logical vector.\n",
    "match() is used to find the index positions of matches and returns those positions or NA.\n",
    "Both operators and functions are essential for data manipulation and querying in R, allowing you to efficiently handle and analyze your data."
   ]
  },
  {
   "cell_type": "code",
   "execution_count": null,
   "metadata": {
    "vscode": {
     "languageId": "r"
    }
   },
   "outputs": [],
   "source": [
    "\n",
    "\n",
    "Bitwise Operations:\n",
    "\n",
    "AND (&): Performs a bitwise AND operation (e.g., a & b).\n",
    "OR (|): Performs a bitwise OR operation (e.g., a | b).\n",
    "XOR (^): Performs a bitwise XOR operation (e.g., a ^ b).\n",
    "NOT (~): Performs a bitwise NOT operation (e.g., ~a).\n",
    "Shift Left (<<): Shifts bits to the left (e.g., a << 2).\n",
    "Shift Right (>>): Shifts bits to the right (e.g., a >> 2).\n",
    "\n",
    "\n",
    "\n",
    "Unary Plus (+): Indicates a positive value (e.g., +a).\n",
    "Unary Minus (-): Negates a value (e.g., -a).\n",
    "Increment (++): Increases the value of a variable by one (e.g., a++).\n",
    "Decrement (--): Decreases the value of a variable by one (e.g., a--).\n",
    "Conditional Operations:\n",
    "\n",
    "Ternary Operator (? :): A shorthand for if-else conditions (e.g., a ? b : c).\n",
    "Special Operations:\n",
    "\n",
    "String Operations: Concatenation (+), repetition (*), and slicing.\n",
    "List Operations: Accessing elements, appending, and slicing.\n"
   ]
  },
  {
   "cell_type": "code",
   "execution_count": null,
   "metadata": {
    "vscode": {
     "languageId": "r"
    }
   },
   "outputs": [],
   "source": [
    "  - Exercise"
   ]
  }
 ],
 "metadata": {
  "kernelspec": {
   "display_name": "R",
   "language": "R",
   "name": "ir"
  },
  "language_info": {
   "codemirror_mode": "r",
   "file_extension": ".r",
   "mimetype": "text/x-r-source",
   "name": "R",
   "pygments_lexer": "r",
   "version": "4.3.2"
  }
 },
 "nbformat": 4,
 "nbformat_minor": 2
}
