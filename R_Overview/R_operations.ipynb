{
 "cells": [
  {
   "cell_type": "markdown",
   "metadata": {
    "vscode": {
     "languageId": "r"
    }
   },
   "source": [
    "---\n",
    "**Author**: *Mugabi Trevor .L*\n",
    "\n",
    "**Published**: *2024-09-03*\n",
    "\n",
    "**Keywords**: *Assigment Operator, Logical operator, Arithmetic operator, Comparison operator*\n",
    "\n",
    "**Description**: *Operations in R*\n",
    "\n",
    "---"
   ]
  },
  {
   "cell_type": "markdown",
   "metadata": {
    "vscode": {
     "languageId": "r"
    }
   },
   "source": [
    "# Operations \n",
    "In programming, an operation refers to an action or computation that is performed on data. Operations are fundamental to programming and are used to manipulate data, perform calculations, and control the flow of a program. There are a number of operations in **R**, Below is a detailed explanation of operations \n"
   ]
  },
  {
   "cell_type": "markdown",
   "metadata": {
    "vscode": {
     "languageId": "r"
    }
   },
   "source": [
    "# Types of Operations\n",
    "The types of operations in **R** can be broken down into these below:\n",
    "  1. Assignment Operators\n",
    "  1. Arithmetic Operators\n",
    "  1. Comparison Operators\n",
    "  1. Logical Operators\n",
    "  1. Identity Operators\n",
    "  1. Membership Operators\n",
    "\n",
    "Lets Explore one by one below to see exactly what each is all about and some examples along the way.\n",
    "\n",
    "\n",
    "\n"
   ]
  },
  {
   "cell_type": "markdown",
   "metadata": {},
   "source": [
    "## 1. Assignment Operators\n",
    "Assignment operators in programming are used to assign values to variables. These operators store a value on the right side of the operator into the variable on the left side. In most programming languages, assignment operators not only assign values but also can perform arithmetic operations and then assign the result to a variable.\n",
    "\n",
    "### Types of Assignment Operators\n",
    "  1. Simple Assignment (=): Assigns a value to a variable (e.g., a = 5).\n",
    "  1. Assignment with (<-): Assigns a value to a variable (e.g., a <- 5).\n",
    " \n"
   ]
  },
  {
   "cell_type": "code",
   "execution_count": 1,
   "metadata": {
    "vscode": {
     "languageId": "r"
    }
   },
   "outputs": [
    {
     "name": "stdout",
     "output_type": "stream",
     "text": [
      "[1] 20\n"
     ]
    }
   ],
   "source": [
    "# Simple Assignment using (<-).\n",
    "num <- 20 \n",
    "print(num)"
   ]
  },
  {
   "cell_type": "code",
   "execution_count": 2,
   "metadata": {
    "vscode": {
     "languageId": "r"
    }
   },
   "outputs": [
    {
     "name": "stdout",
     "output_type": "stream",
     "text": [
      "[1] 25\n"
     ]
    }
   ],
   "source": [
    "# Assignment using (=).\n",
    "num_1 = 25 # or num = 20 This will work in R\n",
    "print(num_1)"
   ]
  },
  {
   "cell_type": "markdown",
   "metadata": {},
   "source": [
    "**NB**: If you coming from another Programming language. its time to let you know that **R** doesnt have short hand syntax support so we can not use syntax like `num = 1` then `num +=1` "
   ]
  },
  {
   "cell_type": "markdown",
   "metadata": {
    "vscode": {
     "languageId": "r"
    }
   },
   "source": [
    "## 2. Arithmetic Operators\n",
    "Arithmetic operations in programming and mathematics involve performing basic calculations on numerical values. These operations are fundamental to many algorithms and data manipulations. Here’s a detailed definition and explanation of each.\n",
    "\n",
    "### Type of arithmetic operation\n",
    "Arithmetic Operations:\n",
    "1. **Addition (+)**: Combines two values (e.g., a + b).\n",
    "1. **Subtraction (-)**: Subtracts one value from another (e.g., a - b).\n",
    "1. **Multiplication (*)**: Multiplies two values (e.g., a * b).\n",
    "1. **Division (/)**: Divides one value by another (e.g., a / b).\n",
    "1. **Modulus (%%)**: Returns the remainder of division (e.g., a % b).\n",
    "1. **Exponentiation (^)**: Raises a value to the power of another (e.g., a ** b).\n",
    "    "
   ]
  },
  {
   "cell_type": "code",
   "execution_count": 3,
   "metadata": {
    "vscode": {
     "languageId": "r"
    }
   },
   "outputs": [
    {
     "data": {
      "text/html": [
       "150"
      ],
      "text/latex": [
       "150"
      ],
      "text/markdown": [
       "150"
      ],
      "text/plain": [
       "[1] 150"
      ]
     },
     "metadata": {},
     "output_type": "display_data"
    }
   ],
   "source": [
    "# Addition.\n",
    "50 + 100 \n"
   ]
  },
  {
   "cell_type": "code",
   "execution_count": 4,
   "metadata": {
    "vscode": {
     "languageId": "r"
    }
   },
   "outputs": [
    {
     "data": {
      "text/html": [
       "-50"
      ],
      "text/latex": [
       "-50"
      ],
      "text/markdown": [
       "-50"
      ],
      "text/plain": [
       "[1] -50"
      ]
     },
     "metadata": {},
     "output_type": "display_data"
    }
   ],
   "source": [
    "# Subtraction.\n",
    "50 - 100"
   ]
  },
  {
   "cell_type": "code",
   "execution_count": 5,
   "metadata": {
    "vscode": {
     "languageId": "r"
    }
   },
   "outputs": [
    {
     "data": {
      "text/html": [
       "5000"
      ],
      "text/latex": [
       "5000"
      ],
      "text/markdown": [
       "5000"
      ],
      "text/plain": [
       "[1] 5000"
      ]
     },
     "metadata": {},
     "output_type": "display_data"
    }
   ],
   "source": [
    "# Multiplication (*).\n",
    "50 * 100"
   ]
  },
  {
   "cell_type": "code",
   "execution_count": 6,
   "metadata": {
    "vscode": {
     "languageId": "r"
    }
   },
   "outputs": [
    {
     "data": {
      "text/html": [
       "2"
      ],
      "text/latex": [
       "2"
      ],
      "text/markdown": [
       "2"
      ],
      "text/plain": [
       "[1] 2"
      ]
     },
     "metadata": {},
     "output_type": "display_data"
    }
   ],
   "source": [
    "# Divison (/).\n",
    "100 / 50"
   ]
  },
  {
   "cell_type": "code",
   "execution_count": 7,
   "metadata": {
    "vscode": {
     "languageId": "r"
    }
   },
   "outputs": [
    {
     "data": {
      "text/html": [
       "0"
      ],
      "text/latex": [
       "0"
      ],
      "text/markdown": [
       "0"
      ],
      "text/plain": [
       "[1] 0"
      ]
     },
     "metadata": {},
     "output_type": "display_data"
    }
   ],
   "source": [
    "# Modulus -- For modulus in R we use two percent signs (%%).\n",
    "100 %% 50"
   ]
  },
  {
   "cell_type": "code",
   "execution_count": 8,
   "metadata": {
    "vscode": {
     "languageId": "r"
    }
   },
   "outputs": [
    {
     "data": {
      "text/html": [
       "7.88860905221012e+169"
      ],
      "text/latex": [
       "7.88860905221012e+169"
      ],
      "text/markdown": [
       "7.88860905221012e+169"
      ],
      "text/plain": [
       "[1] 7.888609e+169"
      ]
     },
     "metadata": {},
     "output_type": "display_data"
    }
   ],
   "source": [
    "# Exponential (^).\n",
    "50 ^ 100"
   ]
  },
  {
   "cell_type": "markdown",
   "metadata": {
    "vscode": {
     "languageId": "r"
    }
   },
   "source": [
    "## 3. Comparison Operators\n",
    "Comparison operators in programming are used to compare two values or expressions. These operators return a logical value (TRUE or FALSE) depending on whether the comparison is true or false. They are fundamental in decision-making structures like if statements, loops, and other control flow mechanisms.\n",
    "\n",
    "### Types of comparison Operators.\n",
    "1. **Equal to (==)**: Checks if two values are equal (e.g., a == b).\n",
    "1. **Not equal to (!=)**: Checks if two values are not equal (e.g., a != b).\n",
    "1. **Greater than (>)**: Checks if one value is greater than another (e.g., a > b).\n",
    "1. **Less than (<)**: Checks if one value is less than another (e.g., a < b).\n",
    "1. **Greater than or equal to (>=)**: Checks if one value is greater than or equal to another (e.g., a >= b).\n",
    "1. **Less than or equal to (<=)**: Checks if one value is less than or equal to another (e.g., a <= b).\n"
   ]
  },
  {
   "cell_type": "code",
   "execution_count": 9,
   "metadata": {
    "vscode": {
     "languageId": "r"
    }
   },
   "outputs": [
    {
     "data": {
      "text/html": [
       "TRUE"
      ],
      "text/latex": [
       "TRUE"
      ],
      "text/markdown": [
       "TRUE"
      ],
      "text/plain": [
       "[1] TRUE"
      ]
     },
     "metadata": {},
     "output_type": "display_data"
    }
   ],
   "source": [
    "# Equal to (==).\n",
    "50 == 50  # Output TRUE"
   ]
  },
  {
   "cell_type": "code",
   "execution_count": 10,
   "metadata": {
    "vscode": {
     "languageId": "r"
    }
   },
   "outputs": [
    {
     "data": {
      "text/html": [
       "FALSE"
      ],
      "text/latex": [
       "FALSE"
      ],
      "text/markdown": [
       "FALSE"
      ],
      "text/plain": [
       "[1] FALSE"
      ]
     },
     "metadata": {},
     "output_type": "display_data"
    }
   ],
   "source": [
    "# Not Equal to (!=).\n",
    "50 != 50 # Output FALSE"
   ]
  },
  {
   "cell_type": "code",
   "execution_count": 11,
   "metadata": {
    "vscode": {
     "languageId": "r"
    }
   },
   "outputs": [
    {
     "data": {
      "text/html": [
       "TRUE"
      ],
      "text/latex": [
       "TRUE"
      ],
      "text/markdown": [
       "TRUE"
      ],
      "text/plain": [
       "[1] TRUE"
      ]
     },
     "metadata": {},
     "output_type": "display_data"
    }
   ],
   "source": [
    "# Greater than (>).\n",
    "100 > 4 # Output TRUE"
   ]
  },
  {
   "cell_type": "code",
   "execution_count": 12,
   "metadata": {
    "vscode": {
     "languageId": "r"
    }
   },
   "outputs": [
    {
     "data": {
      "text/html": [
       "FALSE"
      ],
      "text/latex": [
       "FALSE"
      ],
      "text/markdown": [
       "FALSE"
      ],
      "text/plain": [
       "[1] FALSE"
      ]
     },
     "metadata": {},
     "output_type": "display_data"
    }
   ],
   "source": [
    "# Less than (<).\n",
    "100 < 4 # Output FALSE"
   ]
  },
  {
   "cell_type": "code",
   "execution_count": 13,
   "metadata": {
    "vscode": {
     "languageId": "r"
    }
   },
   "outputs": [
    {
     "data": {
      "text/html": [
       "TRUE"
      ],
      "text/latex": [
       "TRUE"
      ],
      "text/markdown": [
       "TRUE"
      ],
      "text/plain": [
       "[1] TRUE"
      ]
     },
     "metadata": {},
     "output_type": "display_data"
    }
   ],
   "source": [
    "# Greater than or equal to (>=):\n",
    "50 >= 49 # Output TRUE"
   ]
  },
  {
   "cell_type": "code",
   "execution_count": 14,
   "metadata": {
    "vscode": {
     "languageId": "r"
    }
   },
   "outputs": [
    {
     "data": {
      "text/html": [
       "TRUE"
      ],
      "text/latex": [
       "TRUE"
      ],
      "text/markdown": [
       "TRUE"
      ],
      "text/plain": [
       "[1] TRUE"
      ]
     },
     "metadata": {},
     "output_type": "display_data"
    }
   ],
   "source": [
    "# Less than or equal to (<=)\n",
    "49 <= 100 # Output TRUE"
   ]
  },
  {
   "cell_type": "markdown",
   "metadata": {
    "vscode": {
     "languageId": "r"
    }
   },
   "source": [
    "## 4. Logical Operators\n",
    "Logical operators are used in programming to perform logical operations, typically on boolean values (TRUE or FALSE). These operators are essential for decision-making and control flow in code, allowing you to combine and evaluate conditions.\n",
    "\n",
    "### Types of Logical Operators\n",
    "  1. **AND (&& or and)**: Returns true if both conditions are true (e.g., a && b or a and b).\n",
    "  1. **OR (|| or or)**: Returns true if at least one condition is true (e.g., a || b or a or b).\n",
    "  1. **NOT (! or not)**: Returns true if the condition is false (e.g., !a or not a).\n"
   ]
  },
  {
   "cell_type": "code",
   "execution_count": 15,
   "metadata": {
    "vscode": {
     "languageId": "r"
    }
   },
   "outputs": [
    {
     "data": {
      "text/html": [
       "TRUE"
      ],
      "text/latex": [
       "TRUE"
      ],
      "text/markdown": [
       "TRUE"
      ],
      "text/plain": [
       "[1] TRUE"
      ]
     },
     "metadata": {},
     "output_type": "display_data"
    }
   ],
   "source": [
    "# AND  using single (&)\n",
    "(5 > 2) & (5 > 4) # Output True if both conditions are true."
   ]
  },
  {
   "cell_type": "code",
   "execution_count": 16,
   "metadata": {
    "vscode": {
     "languageId": "r"
    }
   },
   "outputs": [
    {
     "data": {
      "text/html": [
       "TRUE"
      ],
      "text/latex": [
       "TRUE"
      ],
      "text/markdown": [
       "TRUE"
      ],
      "text/plain": [
       "[1] TRUE"
      ]
     },
     "metadata": {},
     "output_type": "display_data"
    }
   ],
   "source": [
    "# AND using  double (&&)\n",
    "(5 > 2) && (5 > 4) # Output True if both conditions are true."
   ]
  },
  {
   "cell_type": "code",
   "execution_count": 17,
   "metadata": {
    "vscode": {
     "languageId": "r"
    }
   },
   "outputs": [
    {
     "data": {
      "text/html": [
       "TRUE"
      ],
      "text/latex": [
       "TRUE"
      ],
      "text/markdown": [
       "TRUE"
      ],
      "text/plain": [
       "[1] TRUE"
      ]
     },
     "metadata": {},
     "output_type": "display_data"
    }
   ],
   "source": [
    "# OR using single (|)\n",
    "(5 > 2) | (5 < 2) # Output True if at least one condition is true."
   ]
  },
  {
   "cell_type": "code",
   "execution_count": 18,
   "metadata": {
    "vscode": {
     "languageId": "r"
    }
   },
   "outputs": [
    {
     "data": {
      "text/html": [
       "TRUE"
      ],
      "text/latex": [
       "TRUE"
      ],
      "text/markdown": [
       "TRUE"
      ],
      "text/plain": [
       "[1] TRUE"
      ]
     },
     "metadata": {},
     "output_type": "display_data"
    }
   ],
   "source": [
    "# OR using double (||)\n",
    "(5 > 2) || (5 < 2) # Output True if at least one condition is true."
   ]
  },
  {
   "cell_type": "code",
   "execution_count": 19,
   "metadata": {
    "vscode": {
     "languageId": "r"
    }
   },
   "outputs": [
    {
     "data": {
      "text/html": [
       "FALSE"
      ],
      "text/latex": [
       "FALSE"
      ],
      "text/markdown": [
       "FALSE"
      ],
      "text/plain": [
       "[1] FALSE"
      ]
     },
     "metadata": {},
     "output_type": "display_data"
    },
    {
     "data": {
      "text/html": [
       "TRUE"
      ],
      "text/latex": [
       "TRUE"
      ],
      "text/markdown": [
       "TRUE"
      ],
      "text/plain": [
       "[1] TRUE"
      ]
     },
     "metadata": {},
     "output_type": "display_data"
    },
    {
     "data": {
      "text/html": [
       "<style>\n",
       ".list-inline {list-style: none; margin:0; padding: 0}\n",
       ".list-inline>li {display: inline-block}\n",
       ".list-inline>li:not(:last-child)::after {content: \"\\00b7\"; padding: 0 .5ex}\n",
       "</style>\n",
       "<ol class=list-inline><li>FALSE</li><li>TRUE</li><li>FALSE</li></ol>\n"
      ],
      "text/latex": [
       "\\begin{enumerate*}\n",
       "\\item FALSE\n",
       "\\item TRUE\n",
       "\\item FALSE\n",
       "\\end{enumerate*}\n"
      ],
      "text/markdown": [
       "1. FALSE\n",
       "2. TRUE\n",
       "3. FALSE\n",
       "\n",
       "\n"
      ],
      "text/plain": [
       "[1] FALSE  TRUE FALSE"
      ]
     },
     "metadata": {},
     "output_type": "display_data"
    }
   ],
   "source": [
    "# NOT (! or not)\n",
    "!TRUE   # Result: FALSE\n",
    "!FALSE  # Result: TRUE\n",
    "\n",
    "!c(TRUE, FALSE, TRUE)  # Result: FALSE TRUE FALSE"
   ]
  },
  {
   "cell_type": "markdown",
   "metadata": {
    "vscode": {
     "languageId": "r"
    }
   },
   "source": [
    "## Identity Operators\n",
    "In R, identity operators are used to test if two objects are the same object or have the same identity. This concept is different from equality operators, which test if two objects are equivalent in value. Identity operators are particularly useful for checking if two variables point to the same object in memory, which is more about object identity rather than object equality.\n",
    "### Types of Identity Operators \n",
    "1. **Identical() Function**: Tests if two R objects are exactly the same, both in terms of their value and attributes. It checks for identity, meaning that the two objects are considered the same if they have the same type, structure, and content.\n",
    "\n",
    "\n",
    "2. **is() Function**: Checks if an object is of a specified class. It’s more about checking the identity of an object’s class rather than its value.\n"
   ]
  },
  {
   "cell_type": "code",
   "execution_count": 20,
   "metadata": {
    "vscode": {
     "languageId": "r"
    }
   },
   "outputs": [
    {
     "data": {
      "text/html": [
       "TRUE"
      ],
      "text/latex": [
       "TRUE"
      ],
      "text/markdown": [
       "TRUE"
      ],
      "text/plain": [
       "[1] TRUE"
      ]
     },
     "metadata": {},
     "output_type": "display_data"
    },
    {
     "data": {
      "text/html": [
       "TRUE"
      ],
      "text/latex": [
       "TRUE"
      ],
      "text/markdown": [
       "TRUE"
      ],
      "text/plain": [
       "[1] TRUE"
      ]
     },
     "metadata": {},
     "output_type": "display_data"
    }
   ],
   "source": [
    "# using identical(x, y)\n",
    "x <- c(1, 2, 3) \n",
    "y <- c(1, 2, 3)\n",
    "z <- x\n",
    "\n",
    "identical(x, y)  # FALSE, because x and y are not the same object in memory\n",
    "identical(x, z)  # TRUE, because x and z are the same object in memory\n"
   ]
  },
  {
   "cell_type": "code",
   "execution_count": 21,
   "metadata": {
    "vscode": {
     "languageId": "r"
    }
   },
   "outputs": [
    {
     "data": {
      "text/html": [
       "TRUE"
      ],
      "text/latex": [
       "TRUE"
      ],
      "text/markdown": [
       "TRUE"
      ],
      "text/plain": [
       "[1] TRUE"
      ]
     },
     "metadata": {},
     "output_type": "display_data"
    },
    {
     "data": {
      "text/html": [
       "FALSE"
      ],
      "text/latex": [
       "FALSE"
      ],
      "text/markdown": [
       "FALSE"
      ],
      "text/plain": [
       "[1] FALSE"
      ]
     },
     "metadata": {},
     "output_type": "display_data"
    }
   ],
   "source": [
    "# using is(x, class)\n",
    "x <- 5\n",
    "is(x, \"numeric\")  # TRUE, because x is a numeric object\n",
    "is(x, \"integer\")  # FALSE, because x is not an integer\n"
   ]
  },
  {
   "cell_type": "markdown",
   "metadata": {
    "vscode": {
     "languageId": "r"
    }
   },
   "source": [
    "## Membership Operators\n",
    "In R, membership operators are used to test if elements belong to a specific set or structure. They are useful for checking whether values are present within vectors, lists, or other data structures. Here are the main membership operators in R:\n",
    "\n",
    "1. **%in% Operator**: Tests if elements of one vector are present in another vector. This operator is used to check membership within a set.\n",
    "\n",
    "2. **match() Function**: Finds the positions of the first matches of a vector of elements in another vector. It returns the index positions where matches are found, or NA if no match is found.\n",
    "\n",
    "3. **%in% vs. match()**:\n",
    "%in% Operator: Checks if elements are present in a set and returns a logical vector.\n",
    "match() Function: Provides the position of the matches or NA if no match is found.\n",
    "\n",
    "**Summary**:\n",
    "***%in%*** is used for membership testing, checking if elements are present in a set, and returns a logical vector and\n",
    "***match()*** is used to find the index positions of matches and returns those positions or NA.\n",
    "\n",
    "Both operators and functions are essential for data manipulation and querying in **R**, allowing you to efficiently handle and analyze your data."
   ]
  },
  {
   "cell_type": "code",
   "execution_count": 22,
   "metadata": {
    "vscode": {
     "languageId": "r"
    }
   },
   "outputs": [
    {
     "data": {
      "text/html": [
       "TRUE"
      ],
      "text/latex": [
       "TRUE"
      ],
      "text/markdown": [
       "TRUE"
      ],
      "text/plain": [
       "[1] TRUE"
      ]
     },
     "metadata": {},
     "output_type": "display_data"
    },
    {
     "data": {
      "text/html": [
       "<style>\n",
       ".list-inline {list-style: none; margin:0; padding: 0}\n",
       ".list-inline>li {display: inline-block}\n",
       ".list-inline>li:not(:last-child)::after {content: \"\\00b7\"; padding: 0 .5ex}\n",
       "</style>\n",
       "<ol class=list-inline><li>TRUE</li><li>FALSE</li></ol>\n"
      ],
      "text/latex": [
       "\\begin{enumerate*}\n",
       "\\item TRUE\n",
       "\\item FALSE\n",
       "\\end{enumerate*}\n"
      ],
      "text/markdown": [
       "1. TRUE\n",
       "2. FALSE\n",
       "\n",
       "\n"
      ],
      "text/plain": [
       "[1]  TRUE FALSE"
      ]
     },
     "metadata": {},
     "output_type": "display_data"
    }
   ],
   "source": [
    "# Using %in%.\n",
    "# Defining  vectors.\n",
    "fruits <- c(\"apple\", \"banana\", \"cherry\")\n",
    "my_fruit <- \"banana\"\n",
    "my_fruits <- c(\"apple\", \"orange\")\n",
    "\n",
    "# Checking if `my_fruit` is in `fruits`\n",
    "my_fruit %in% fruits  # TRUE\n",
    "\n",
    "# Checking if elements in `my_fruits` are in `fruits`\n",
    "my_fruits %in% fruits  # TRUE FALSE\n",
    "# Here, \"banana\" is in the fruits vector, so the result is TRUE. The vector my_fruits\n",
    "# contains \"apple\" (which is in fruits) and \"orange\" (which is not), so the result is TRUE FALSE."
   ]
  },
  {
   "cell_type": "code",
   "execution_count": 23,
   "metadata": {
    "vscode": {
     "languageId": "r"
    }
   },
   "outputs": [
    {
     "data": {
      "text/html": [
       "<style>\n",
       ".list-inline {list-style: none; margin:0; padding: 0}\n",
       ".list-inline>li {display: inline-block}\n",
       ".list-inline>li:not(:last-child)::after {content: \"\\00b7\"; padding: 0 .5ex}\n",
       "</style>\n",
       "<ol class=list-inline><li>2</li><li>3</li><li>&lt;NA&gt;</li></ol>\n"
      ],
      "text/latex": [
       "\\begin{enumerate*}\n",
       "\\item 2\n",
       "\\item 3\n",
       "\\item <NA>\n",
       "\\end{enumerate*}\n"
      ],
      "text/markdown": [
       "1. 2\n",
       "2. 3\n",
       "3. &lt;NA&gt;\n",
       "\n",
       "\n"
      ],
      "text/plain": [
       "[1]  2  3 NA"
      ]
     },
     "metadata": {},
     "output_type": "display_data"
    }
   ],
   "source": [
    "# Using match(x, table)\n",
    "# Defining  vectors\n",
    "fruits <- c(\"apple\", \"banana\", \"cherry\")\n",
    "my_fruits <- c(\"banana\", \"cherry\", \"orange\")\n",
    "\n",
    "# Find positions of `my_fruits` in `fruits`\n",
    "match(my_fruits, fruits)  # 2 3 NA\n",
    "\n",
    "#Here, \"banana\" is the 2nd element in fruits, \n",
    "#\"cherry\" is the 3rd, and \"orange\" is not found, so it returns NA.\n"
   ]
  },
  {
   "cell_type": "markdown",
   "metadata": {
    "vscode": {
     "languageId": "r"
    }
   },
   "source": [
    "# Exercise"
   ]
  },
  {
   "cell_type": "markdown",
   "metadata": {
    "vscode": {
     "languageId": "r"
    }
   },
   "source": [
    "**Description**:\n",
    "This exercise will help you practice using logical operators in R to evaluate conditions and filter data based on multiple criteria. You will be working directly with vectors and logical statements.\n",
    "\n",
    "1. **Problem 1**:\n",
    "    - Given an integer x=10 , perform the following checks:\n",
    "    - Is x positive?\n",
    "    - Use x > 0 to check if x is positive.\n",
    "    - Is x even?\n",
    "    - Use x %% 2 == 0 to check if x is even.\n",
    "    - Is x divisible by 3?\n",
    "    - Use x %% 3 == 0 to check if x is divisible by 3.\n",
    "    - Is x greater than 10 and less than 50?\n",
    "    - Use x > 10 & x < 50 to check if x is within this range.\n",
    "    - Is x either less than 0 or greater than 100?\n",
    "    - Use x < 0 | x > 100 to check this condition.\n",
    "\n",
    "2. **Problem 2**: \n",
    "    - Given two integers x and y, evaluate the following conditions:\n",
    "    x <- 12,\n",
    "    y <- -8\n",
    "\n",
    "    - Are both x and y positive?\n",
    "    - Use x > 0 & y > 0 to check if both are positive.\n",
    "    - Is at least one of x or y negative?\n",
    "    - Use x < 0 | y < 0 to check if at least one is negative.\n",
    "    - Are both x and y even?\n",
    "    - Use (x %% 2 == 0) & (y %% 2 == 0) to check if both are even.\n",
    "    - Is at least one of x or y odd?\n",
    "    - Use (x %% 2 != 0) | (y %% 2 != 0) to check if at least one is odd.\n",
    "\n",
    "\n",
    "3. **Problem 3**: \n",
    "    - Filter this Vector Based on Logical Conditions, vec <- c(3, 12, -5, 20, 7, 18, -2, 30)\n",
    "    - Given a numeric vector vec, filter out and print the elements that satisfy the following conditions:\n",
    "        - The element is positive.\n",
    "        - The element is even.\n",
    "        - The element is greater than or equal to 10.\n",
    "\n",
    "Run each block of code in R.\n",
    "Understand how logical operators are used to evaluate and filter data based on multiple conditions.\n",
    "This exercise will help you gain a solid understanding of logical operators in R by applying them directly to vectors and conditions.\n",
    "\n",
    "--- \n",
    "***Good Luck***\n",
    "---"
   ]
  }
 ],
 "metadata": {
  "kernelspec": {
   "display_name": "R",
   "language": "R",
   "name": "ir"
  },
  "language_info": {
   "codemirror_mode": "r",
   "file_extension": ".r",
   "mimetype": "text/x-r-source",
   "name": "R",
   "pygments_lexer": "r",
   "version": "4.3.2"
  }
 },
 "nbformat": 4,
 "nbformat_minor": 2
}
