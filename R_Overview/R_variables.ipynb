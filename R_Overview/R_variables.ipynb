{
 "cells": [
  {
   "cell_type": "markdown",
   "metadata": {
    "vscode": {
     "languageId": "r"
    }
   },
   "source": [
    "# Introduction to Variables\n",
    "\n",
    "*By Mugabi Trevor. L*\n",
    "\n",
    "**In programming**, a variable is a named storage location in memory that holds a value which can be changed during the execution of a program. Think of it as a container that you can use to store data, such as numbers, text, or more complex data structures.\n",
    "\n"
   ]
  },
  {
   "cell_type": "markdown",
   "metadata": {
    "vscode": {
     "languageId": "r"
    }
   },
   "source": [
    "# Variables\n",
    "**In R:**\n",
    "- **A variable** in R is used to store data that you want to work with.\n",
    "- You can assign a value to a variable using the assignment operator \"<-\" or \"=\".\n",
    "- Once a variable is assigned a value, you can use the variable name to refer to that value in your code \n",
    "\n"
   ]
  },
  {
   "cell_type": "code",
   "execution_count": 1,
   "metadata": {
    "vscode": {
     "languageId": "r"
    }
   },
   "outputs": [
    {
     "name": "stdout",
     "output_type": "stream",
     "text": [
      "[1] 1\n"
     ]
    }
   ],
   "source": [
    "# Example 1 using assignment operator \"<-\".\n",
    "num_1 <- 1  # Assigning value 1 to variable num_1.\n",
    "print(num_1) # Prints out what the variable num_1 contains.\n"
   ]
  },
  {
   "cell_type": "markdown",
   "metadata": {},
   "source": [
    "In the above code we see that now num_1 is assigned to the value of 1 therefore anywhere in our code we refer to \"num_1\" the 1 is whats being referenced."
   ]
  },
  {
   "cell_type": "code",
   "execution_count": 2,
   "metadata": {
    "vscode": {
     "languageId": "r"
    }
   },
   "outputs": [
    {
     "name": "stdout",
     "output_type": "stream",
     "text": [
      "[1] 3\n"
     ]
    }
   ],
   "source": [
    "# Example 2 using assignment operator \"=\".\n",
    "num_2 = 3  # Assigning value of 3 to variable num_2.\n",
    "print(num_2) # Prints out what the variable num_1 contains."
   ]
  },
  {
   "cell_type": "markdown",
   "metadata": {},
   "source": [
    "In the above code we see that now num_2 is assigned to the value of 3. Therefore anywhere in our code we refer to \"num_2\" the 3 is whats being referenced.  With this knowledge in mind so if num_1 is 1 and num_2 is 3 then num_1 plus num_3 should equal to 1 + 3 which equals to 4 . Lets test this out below and see what we end up with."
   ]
  },
  {
   "cell_type": "code",
   "execution_count": 3,
   "metadata": {
    "vscode": {
     "languageId": "r"
    }
   },
   "outputs": [
    {
     "name": "stdout",
     "output_type": "stream",
     "text": [
      "[1] 4\n"
     ]
    }
   ],
   "source": [
    "# Testing above theory that num_1 + num_2 = 4 since num_1 = 1 and num_2 = 3.\n",
    "# Adding num1 and num_2 putting the outcome of the operation into a variable called results.\n",
    "results <- num_1 + num_2  \n",
    "print(results)  # printing out the results."
   ]
  },
  {
   "cell_type": "markdown",
   "metadata": {},
   "source": [
    "Look at that we get a Four as the answer, this proves the concept of variables being containers for whatever we may like to store. Which brings us to the Question of \"What Exactly can we store in a variable 🤔🤔?\"."
   ]
  },
  {
   "cell_type": "markdown",
   "metadata": {
    "vscode": {
     "languageId": "r"
    }
   },
   "source": [
    "# Data Types in R\n",
    "\n",
    "When working with **R**, understanding different data types is crucial. These types determine how **R** handles and processes your data. So, let’s break it down\n",
    "\n",
    "## 1. Numeric Data\n",
    "\n",
    "- **Numeric data in R** refers to any data that represents numbers. This can include integers (whole numbers) and doubles (floating-point numbers or decimals). \n",
    "\n",
    "- Numeric data is used for mathematical operations like addition, subtraction, multiplication, and division.\n"
   ]
  },
  {
   "cell_type": "code",
   "execution_count": 4,
   "metadata": {
    "vscode": {
     "languageId": "r"
    }
   },
   "outputs": [
    {
     "name": "stdout",
     "output_type": "stream",
     "text": [
      "[1] 45.14\n"
     ]
    }
   ],
   "source": [
    "# Numeric data\n",
    "num1 <- 42       # Integer\n",
    "num2 <- 3.14     # Decimal or floating-point number\n",
    "\n",
    "# Performing operations with numeric data\n",
    "sum <- num1 + num2\n",
    "print(sum)  # Outputs should be 45.14"
   ]
  },
  {
   "cell_type": "markdown",
   "metadata": {
    "vscode": {
     "languageId": "r"
    }
   },
   "source": [
    "## 2. Character Data\n",
    "\n",
    "- **Character data in R** consists of text or strings. Strings are sequences of characters enclosed in either single or double quotes.\n",
    "\n",
    "- Character data is often used for storing names, addresses, labels, or any other non-numeric information."
   ]
  },
  {
   "cell_type": "code",
   "execution_count": 5,
   "metadata": {
    "vscode": {
     "languageId": "r"
    }
   },
   "outputs": [
    {
     "name": "stdout",
     "output_type": "stream",
     "text": [
      "[1] \"Hello, World! John Doe\"\n"
     ]
    }
   ],
   "source": [
    "# Character data\n",
    "greeting <- \"Hello, World!\" # Using Double quotes\n",
    "name <- 'John Doe' # Using Single quotes\n",
    "\n",
    "print(paste(greeting, name))  # Outputs \"Hello, World! John Doe\""
   ]
  },
  {
   "cell_type": "markdown",
   "metadata": {
    "vscode": {
     "languageId": "r"
    }
   },
   "source": [
    "## 3. Factor Data\n",
    "\n",
    "- **Factor data** is used to represent categorical data, where the data can take on a limited number of distinct values or levels. \n",
    "\n",
    "- Factors are useful for storing data that has a specific number of categories or a natural order to them, such as \"Yes\" and \"No\" or \"Low\", \"Medium\", and \"High\". \n",
    "\n",
    "- Factors are especially useful in statistical modeling and data analysis. To convert a data type to a factor we use the **Factor()** function as shown below"
   ]
  },
  {
   "cell_type": "code",
   "execution_count": 6,
   "metadata": {
    "vscode": {
     "languageId": "r"
    }
   },
   "outputs": [
    {
     "name": "stdout",
     "output_type": "stream",
     "text": [
      "[1] \"Monday\"    \"Tuesday\"   \"Wednesday\"\n"
     ]
    }
   ],
   "source": [
    "# Factor data\n",
    "days <- factor(c(\"Monday\", \"Tuesday\", \"Wednesday\", \"Tuesday\", \"Monday\"))\n",
    "\n",
    "# Display the factor levels\n",
    "print(levels(days))  # Outputs \"Monday\" \"Tuesday\" \"Wednesday\"\n"
   ]
  },
  {
   "cell_type": "markdown",
   "metadata": {},
   "source": [
    "## 4. Logical Data\n",
    "\n",
    "- **Logical values** in **R** represent **TRUE** or **FALSE** (often used in conditional statements and comparisons).\n",
    "\n",
    "- Logical values are essential for control flow in programs, allowing you to execute different code depending on conditions."
   ]
  },
  {
   "cell_type": "code",
   "execution_count": 7,
   "metadata": {
    "vscode": {
     "languageId": "r"
    }
   },
   "outputs": [],
   "source": [
    "# Logical values\n",
    "is_sunny <- TRUE\n",
    "is_raining <- FALSE"
   ]
  },
  {
   "cell_type": "markdown",
   "metadata": {
    "vscode": {
     "languageId": "r"
    }
   },
   "source": [
    "## 5. Integers\n",
    "\n",
    "- **Integers** are whole numbers that do not have a fractional or decimal part. In **R**, integers are represented by the data type integer.\n",
    "\n",
    "- You can explicitly define an integer by appending an L to the number. By default, **R** treats numbers without a decimal as numeric (which are doubles), so adding the L ensures it is stored as an integer.\n",
    "\n",
    "- You can perform standard arithmetic operations with integers, just as you would with numeric data."
   ]
  },
  {
   "cell_type": "code",
   "execution_count": 14,
   "metadata": {
    "vscode": {
     "languageId": "r"
    }
   },
   "outputs": [
    {
     "name": "stdout",
     "output_type": "stream",
     "text": [
      "[1] 84\n"
     ]
    }
   ],
   "source": [
    "# Defining an integer\n",
    "x <- 42L\n",
    "\n",
    "# Performing operations with integers\n",
    "y <- x * 2\n",
    "print(y)  # Outputs: 84"
   ]
  },
  {
   "cell_type": "markdown",
   "metadata": {},
   "source": [
    "## 6. Complex Numbers\n",
    "\n",
    "- **Complex numbers** consist of a real part and an imaginary part. In **R**, complex numbers are represented using the complex data type.\n",
    "\n",
    "- The imaginary unit is represented by i, and you can create a complex number by combining a real and an imaginary part.See code below\n",
    "\n",
    "- Complex numbers support various operations like addition, subtraction, multiplication, and division. R also provides functions to extract the real **Re()** and imaginary **Im()** parts of a complex number."
   ]
  },
  {
   "cell_type": "code",
   "execution_count": 15,
   "metadata": {
    "vscode": {
     "languageId": "r"
    }
   },
   "outputs": [
    {
     "name": "stdout",
     "output_type": "stream",
     "text": [
      "[1] -7+24i\n"
     ]
    }
   ],
   "source": [
    "# Defining a complex number.\n",
    "z <- 3 + 4i\n",
    "\n",
    "# Accessing the real and imaginary parts.\n",
    "real_part <- Re(z)  # Outputs: 3.\n",
    "imaginary_part <- Im(z)  # Outputs: 4.\n",
    "\n",
    "# Performing operations with complex numbers.\n",
    "z_squared <- z * z\n",
    "print(z_squared)  # Outputs: -7 + 24i"
   ]
  },
  {
   "cell_type": "markdown",
   "metadata": {
    "vscode": {
     "languageId": "r"
    }
   },
   "source": [
    "# Type Conversion\n",
    "\n",
    "**Type conversion (or casting)** is the process of converting one data type to another. In **R**, you might need to convert data types for various reasons, such as converting characters to numeric data for calculations or converting numbers to factors for categorical analysis.\n",
    "\n",
    "Inorder to type convert we use the **as.type** function.But before you know how to type cast we need to find out how to find out the current data type and we using a function know as **class()** function to check for that."
   ]
  },
  {
   "cell_type": "markdown",
   "metadata": {},
   "source": [
    "## 1. Converting Numeric to Character\n",
    "\n",
    "To convert a Numeric to Character we call the **as.character()** function on the variable or Data type we are interested into converting.\n",
    "\n",
    "**NB**: Converisons work where the conversion makes sense thats to say i can convert a\n",
    "numeric number 5 into a character \"5\". I could still convert the character \"5\" back into a Numeric number 5. But you can convert a character such as \"a\" into a Numeric.\n",
    "\n",
    "See code below."
   ]
  },
  {
   "cell_type": "code",
   "execution_count": 8,
   "metadata": {
    "vscode": {
     "languageId": "r"
    }
   },
   "outputs": [
    {
     "name": "stdout",
     "output_type": "stream",
     "text": [
      "[1] \"Type before conversion: numeric\"\n",
      "[1] \"Type after conversion: character\"\n",
      "[1] \"123\"\n"
     ]
    }
   ],
   "source": [
    "##### Converting Numeric to Character. #####\n",
    "num <- 123 # start value.\n",
    "\n",
    "# Checking the type before conversion.\n",
    "print(paste(\"Type before conversion:\", class(num))) \n",
    "\n",
    "# Converting type and saving it into variable num_char.\n",
    "num_char <- as.character(num)\n",
    "\n",
    "# Checking the type after conversion.\n",
    "print(paste(\"Type after conversion:\", class(num_char)))\n",
    "\n",
    "# Printing out the converted start value.\n",
    "print(num_char)  # Outputs \"123\""
   ]
  },
  {
   "cell_type": "markdown",
   "metadata": {},
   "source": [
    "## 2. Converting Character to Numeric\n",
    "\n",
    "To convert a character into a Numeric we use the **as.Numeric()** function \n",
    "on the Variable we want to convert, see code below."
   ]
  },
  {
   "cell_type": "code",
   "execution_count": 9,
   "metadata": {
    "vscode": {
     "languageId": "r"
    }
   },
   "outputs": [
    {
     "name": "stdout",
     "output_type": "stream",
     "text": [
      "[1] \"Type before conversion: character\"\n",
      "[1] \"Type after conversion: numeric\"\n",
      "[1] 456\n"
     ]
    }
   ],
   "source": [
    "##### Character to Numeric #####.\n",
    "char <- \"456\" # start value.\n",
    "\n",
    "# Checking the type before conversion.\n",
    "print(paste(\"Type before conversion:\", class(char))) \n",
    "\n",
    "# Converting type and saving it into variable char_num.\n",
    "char_num <- as.numeric(char)\n",
    "\n",
    "# Checking the type after conversion.\n",
    "print(paste(\"Type after conversion:\", class(char_num)))\n",
    "\n",
    "# Printing out the converted start value.\n",
    "print(char_num)  # Outputs 456"
   ]
  },
  {
   "cell_type": "markdown",
   "metadata": {
    "vscode": {
     "languageId": "r"
    }
   },
   "source": [
    "## 3. Converting Numeric to Factor\n",
    "\n",
    "To convert from a Numeric to a Factor we use the **as.Factor()** function.\n"
   ]
  },
  {
   "cell_type": "code",
   "execution_count": 10,
   "metadata": {
    "vscode": {
     "languageId": "r"
    }
   },
   "outputs": [
    {
     "name": "stdout",
     "output_type": "stream",
     "text": [
      "[1] \"Type after conversion: numeric\"\n",
      "[1] \"Type after conversion: factor\"\n",
      "[1] 85 90 75\n",
      "Levels: 75 85 90\n"
     ]
    }
   ],
   "source": [
    "###### Numeric to Factor #####\n",
    "grades <- c(85, 90, 75) # start value.\n",
    "\n",
    "# Checking the type before conversion.\n",
    "print(paste(\"Type after conversion:\", class(grades)))\n",
    "\n",
    "# Converting type and saving it into variable grades_factor.\n",
    "grades_factor <- as.factor(grades)\n",
    "\n",
    "# Checking the type after conversion.\n",
    "print(paste(\"Type after conversion:\", class(grades_factor)))\n",
    "\n",
    "# Printing out the converted start value.\n",
    "print(grades_factor)  # Outputs a factor with levels 75, 85, 90"
   ]
  },
  {
   "cell_type": "markdown",
   "metadata": {
    "vscode": {
     "languageId": "r"
    }
   },
   "source": [
    "# Exercise\n",
    "\n",
    "This section holds some practice questions about all the above covered concepts, give it a try and see how it goes."
   ]
  },
  {
   "cell_type": "markdown",
   "metadata": {
    "vscode": {
     "languageId": "r"
    }
   },
   "source": [
    "## 1. Numeric Data\n",
    "\n",
    "1. Create two numeric variables, a and b, and assign them any numbers you like.\n",
    "\n",
    "2. Perform the following operations and print the results:\n",
    "\n",
    "    - Sum of a and b.\n",
    "\n",
    "    - Difference between a and b.\n",
    "\n",
    "    - Product of a and b.\n",
    "    \n",
    "    - Division of a by b.\n",
    "\n",
    "    \n",
    "## 2. Character Data\n",
    "\n",
    "1. Create two character variables, first_name and last_name, and assign them your first and last names.\n",
    "\n",
    "2. Concatenate first_name and last_name into a single string with a space between them, and print the result.\n",
    "    \n",
    "\n",
    "## 3. Factor Data\n",
    "\n",
    "1. Create a factor variable days representing the days of the week, with at least three repeated days.\n",
    "\n",
    "2. Print the levels of the days factor.\n",
    "\n",
    "3. Count the number of occurrences of each day and print the result.\n",
    "\n",
    "\n",
    "## 4. Type Conversion\n",
    "\n",
    "1. Create a numeric variable score and assign it a value.\n",
    "\n",
    "2. Convert score to a character and print the result.\n",
    "\n",
    "3. Create a character variable age_str that contains a number as a string (e.g., \"25\").\n",
    "\n",
    "4. Convert age_str to a numeric value and print the result.\n",
    "\n",
    "5. Create a factor from a vector of numbers representing exam scores. Print the factor levels.\n",
    "\n",
    "## 5. Logical Values\n",
    "\n",
    "1. Create a logical variable is_holiday and assign it a value (TRUE or FALSE).\n",
    "\n",
    "2. Write an if statement that prints \"Relax, it's a holiday!\" if is_holiday is TRUE, and \"Time to work!\" if is_holiday is FALSE.\n",
    "\n",
    "3. Compare two numbers using the greater than (>) operator and store the result in a logical variable. Print the result.\n",
    "\n",
    "## 6. Bonus Question\n",
    "\n",
    "1. Combine the concepts above by writing a small R script that checks if a student's exam score (numeric) is above a certain threshold (say, 50). If it is, print \"Passed\", otherwise print \"Failed\". Convert the score to a character before printing."
   ]
  }
 ],
 "metadata": {
  "kernelspec": {
   "display_name": "R",
   "language": "R",
   "name": "ir"
  },
  "language_info": {
   "codemirror_mode": "r",
   "file_extension": ".r",
   "mimetype": "text/x-r-source",
   "name": "R",
   "pygments_lexer": "r",
   "version": "4.3.2"
  }
 },
 "nbformat": 4,
 "nbformat_minor": 2
}
